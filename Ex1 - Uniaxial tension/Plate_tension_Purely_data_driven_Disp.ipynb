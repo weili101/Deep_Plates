{
 "cells": [
  {
   "cell_type": "markdown",
   "metadata": {
    "colab_type": "text",
    "id": "561TKXHQeym0"
   },
   "source": [
    "# Purely data-driven model trained with displacement field"
   ]
  },
  {
   "cell_type": "markdown",
   "metadata": {
    "colab_type": "text",
    "id": "9G9IGxIdeym3"
   },
   "source": [
    "## Import packages"
   ]
  },
  {
   "cell_type": "code",
   "execution_count": 2,
   "metadata": {
    "colab": {},
    "colab_type": "code",
    "executionInfo": {
     "elapsed": 2974,
     "status": "ok",
     "timestamp": 1593169440790,
     "user": {
      "displayName": "Wei Li",
      "photoUrl": "https://lh3.googleusercontent.com/a-/AOh14GhDpBCOrnK4hOTfWsA5gKXz99TtzEHgai250Ir8=s64",
      "userId": "01606093525350219267"
     },
     "user_tz": 240
    },
    "id": "vY1cSGbaeym4"
   },
   "outputs": [],
   "source": [
    "import numpy as np\n",
    "import torch\n",
    "import torch.nn as nn\n",
    "import pandas as pd\n",
    "import matplotlib.pyplot as plt \n",
    "from matplotlib import cm\n",
    "from mpl_toolkits.mplot3d import Axes3D"
   ]
  },
  {
   "cell_type": "markdown",
   "metadata": {
    "colab_type": "text",
    "id": "02JVNIhJeym8"
   },
   "source": [
    "## User defined neural network\n",
    "* A fully-connected feed-forward network\n",
    "    * **n_input** - dimension of input, 2 in this case(x and y lcation)\n",
    "    * **n_output** - dimension of output, 1 in this case (u - horizontal or v - vertical displacemnt)\n",
    "    * **n_layer** - number of hidden layers\n",
    "    * **n_nodes** - number of nodes of each hidden layer\n",
    "* **two networks are defined seperately for u and v**"
   ]
  },
  {
   "cell_type": "code",
   "execution_count": 3,
   "metadata": {
    "colab": {},
    "colab_type": "code",
    "executionInfo": {
     "elapsed": 2959,
     "status": "ok",
     "timestamp": 1593169440792,
     "user": {
      "displayName": "Wei Li",
      "photoUrl": "https://lh3.googleusercontent.com/a-/AOh14GhDpBCOrnK4hOTfWsA5gKXz99TtzEHgai250Ir8=s64",
      "userId": "01606093525350219267"
     },
     "user_tz": 240
    },
    "id": "AgxWHotHeym8"
   },
   "outputs": [],
   "source": [
    "class Net(nn.Module):\n",
    "\n",
    "    def __init__(self, n_input, n_output, n_layer, n_nodes):\n",
    "        super(Net, self).__init__()\n",
    "        self.n_layer = n_layer\n",
    "        \n",
    "        self.Input = nn.Linear(n_input, n_nodes)   # linear layer\n",
    "        nn.init.xavier_uniform_(self.Input.weight) # wigths and bias initiation\n",
    "        nn.init.normal_(self.Input.bias)\n",
    "\n",
    "        self.Output = nn.Linear(n_nodes, n_output)\n",
    "        nn.init.xavier_uniform_(self.Output.weight)\n",
    "        nn.init.normal_(self.Output.bias)\n",
    "        \n",
    "        self.Hidden = nn.ModuleList() # hidden layer list\n",
    "        for i in range(n_layer):\n",
    "            self.Hidden.append(nn.Linear(n_nodes, n_nodes))\n",
    "        for layer in self.Hidden:\n",
    "            nn.init.xavier_uniform_(layer.weight)\n",
    "            nn.init.normal_(layer.bias)\n",
    "        \n",
    "\n",
    "    def forward(self, x):\n",
    "        y = torch.tanh(self.Input(x)) # tanh activation function\n",
    "        for layer in self.Hidden:\n",
    "            y = torch.tanh(layer(y))\n",
    "        y = self.Output(y)\n",
    "        return y"
   ]
  },
  {
   "cell_type": "markdown",
   "metadata": {
    "colab_type": "text",
    "id": "iIi8aUPjeynA"
   },
   "source": [
    "## Functions for first partial derivtives"
   ]
  },
  {
   "cell_type": "code",
   "execution_count": 4,
   "metadata": {},
   "outputs": [],
   "source": [
    "def derivative(x, Net):\n",
    "    \n",
    "    w = Net(x)\n",
    "    dw_x = []\n",
    "    dw_y = []\n",
    "    \n",
    "    for i in range(w.size()[1]):\n",
    "        \n",
    "        #print(Net(x),func(x).view(-1,1),w)\n",
    "        dw_xy = torch.autograd.grad(w[:,i], x, torch.ones_like(w[:,i]), retain_graph=True, \n",
    "                                    create_graph=True, allow_unused=True)\n",
    "        dw_x.append(dw_xy[0][:,0].view(-1,1))\n",
    "        dw_y.append(dw_xy[0][:,1].view(-1,1))\n",
    "\n",
    "    return w, dw_x, dw_y"
   ]
  },
  {
   "cell_type": "code",
   "execution_count": 5,
   "metadata": {},
   "outputs": [],
   "source": [
    "def err(X, Y):\n",
    "    \n",
    "    return torch.mean(torch.mean((X-Y)**2))"
   ]
  },
  {
   "cell_type": "markdown",
   "metadata": {
    "colab_type": "text",
    "id": "-l_m4kE0eynN"
   },
   "source": [
    "## Preparing training data"
   ]
  },
  {
   "cell_type": "code",
   "execution_count": 6,
   "metadata": {},
   "outputs": [],
   "source": [
    "class Dataset(torch.utils.data.Dataset):\n",
    "\n",
    "    def __init__(self, X, Y):\n",
    "        \n",
    "        self.X = X\n",
    "        self.Y = Y\n",
    "        \n",
    "    def __len__(self):\n",
    "        \n",
    "        return len(self.X)\n",
    "\n",
    "    def __getitem__(self, index):\n",
    "        \n",
    "        x = self.X[index]\n",
    "        y = self.Y[index]\n",
    "\n",
    "        return x, y"
   ]
  },
  {
   "cell_type": "code",
   "execution_count": 7,
   "metadata": {},
   "outputs": [],
   "source": [
    "data = pd.read_csv('rec-2.csv')\n",
    "X_train = data.iloc[:, 5:7].to_numpy()\n",
    "U = data.iloc[:,11:13].to_numpy()\n",
    "LE = data.iloc[:,13:16].to_numpy()\n",
    "sig = data.iloc[:,16:19].to_numpy()\n",
    "U1 = U[:,0].reshape(-1, 1)\n",
    "U2 = U[:,1].reshape(-1, 1)\n",
    "eps11 = LE[:,0].reshape(-1, 1)\n",
    "eps22 = LE[:,1].reshape(-1, 1)\n",
    "eps12 = LE[:,2].reshape(-1, 1)\n",
    "sig11 = sig[:,0].reshape(-1, 1)\n",
    "sig22 = sig[:,1].reshape(-1, 1)\n",
    "sig12 = sig[:,2].reshape(-1, 1)"
   ]
  },
  {
   "cell_type": "code",
   "execution_count": 8,
   "metadata": {},
   "outputs": [],
   "source": [
    "X_train = torch.tensor(X_train, dtype=torch.float32)\n",
    "X_train = X_train/10\n",
    "U = torch.tensor(U, dtype=torch.float32)\n",
    "U = U / 10"
   ]
  },
  {
   "cell_type": "code",
   "execution_count": 9,
   "metadata": {
    "colab": {},
    "colab_type": "code",
    "executionInfo": {
     "elapsed": 812,
     "status": "ok",
     "timestamp": 1593171003888,
     "user": {
      "displayName": "Wei Li",
      "photoUrl": "https://lh3.googleusercontent.com/a-/AOh14GhDpBCOrnK4hOTfWsA5gKXz99TtzEHgai250Ir8=s64",
      "userId": "01606093525350219267"
     },
     "user_tz": 240
    },
    "id": "7n2yuqhQeynR",
    "scrolled": true
   },
   "outputs": [],
   "source": [
    "# Prepare training data\n",
    "E, mu = 70, 0.3\n",
    "Net_u = Net(2, 2, 10, 10)"
   ]
  },
  {
   "cell_type": "markdown",
   "metadata": {},
   "source": [
    "## Training Process"
   ]
  },
  {
   "cell_type": "code",
   "execution_count": null,
   "metadata": {
    "colab": {
     "base_uri": "https://localhost:8080/",
     "height": 527
    },
    "colab_type": "code",
    "executionInfo": {
     "elapsed": 194106,
     "status": "ok",
     "timestamp": 1593174726499,
     "user": {
      "displayName": "Wei Li",
      "photoUrl": "https://lh3.googleusercontent.com/a-/AOh14GhDpBCOrnK4hOTfWsA5gKXz99TtzEHgai250Ir8=s64",
      "userId": "01606093525350219267"
     },
     "user_tz": 240
    },
    "id": "RjWvy-E5eynY",
    "outputId": "169158bd-888b-4aa3-91c5-1b1e5c7aaf6a",
    "scrolled": true
   },
   "outputs": [
    {
     "name": "stdout",
     "output_type": "stream",
     "text": [
      "epoch:100: loss:5.3814e-08 \n",
      "epoch:200: loss:3.5178e-08 \n",
      "epoch:300: loss:3.6678e-08 \n",
      "epoch:400: loss:9.1331e-09 \n",
      "epoch:500: loss:6.9401e-09 \n",
      "epoch:600: loss:1.2502e-08 \n",
      "epoch:700: loss:7.6062e-09 \n",
      "epoch:800: loss:4.8991e-08 \n",
      "epoch:900: loss:1.0415e-08 \n",
      "epoch:1000: loss:5.4565e-08 \n",
      "epoch:1100: loss:5.0423e-08 \n",
      "epoch:1200: loss:2.1967e-08 \n",
      "epoch:1300: loss:3.3564e-08 \n",
      "epoch:1400: loss:3.2967e-08 \n",
      "epoch:1500: loss:6.8489e-09 \n",
      "epoch:1600: loss:6.1088e-09 \n",
      "epoch:1700: loss:5.0994e-09 \n",
      "epoch:1800: loss:5.0087e-09 \n",
      "epoch:1900: loss:4.0648e-09 \n",
      "epoch:2000: loss:2.6965e-09 \n",
      "epoch:2100: loss:2.8603e-09 \n"
     ]
    }
   ],
   "source": [
    "nepoches = 6000\n",
    "learning_rate = 1.0e-3\n",
    "optimizer = torch.optim.Adam(Net_u.parameters(), lr=learning_rate)\n",
    "training_set = Dataset(X_train, U)\n",
    "training_generator = torch.utils.data.DataLoader(training_set, batch_size= 128)\n",
    "training_loss = []\n",
    "sig_loss = []\n",
    "for epoch in range(nepoches):\n",
    "    \n",
    "    for X_batch, Y_batch in training_generator:\n",
    "        \n",
    "        Y_pred = Net_u(X_batch)\n",
    "    \n",
    "        \n",
    "        loss = err(Y_pred, Y_batch)\n",
    "        loss.backward()\n",
    "        \n",
    "        optimizer.step()\n",
    "        optimizer.zero_grad()\n",
    "    if (epoch+1) % 100 == 0:\n",
    "        print(f'epoch:{epoch+1}: loss:{loss:.4e} ')\n",
    "        \n",
    "    if (epoch+1) % 10 ==0:\n",
    "        with torch.no_grad():\n",
    "            Y_pred = Net_u(X_batch)\n",
    "            loss = err(Y_pred, Y_batch)\n",
    "            training_loss.append(loss)\n",
    "            \n",
    "        X_train.requires_grad = True\n",
    "        U_pred, dux, duy = derivative(X_train, Net_u)\n",
    "        du_x, du_y = dux[0], duy[0]\n",
    "        dv_x, dv_y = dux[1], duy[1]\n",
    "        \n",
    "        sig_x = (du_x + mu*dv_y)*E/(1 - mu**2) \n",
    "        sig_y = (dv_y + mu*du_x)*E/(1 - mu**2)\n",
    "        sig_xy = (dv_x + du_y)*E/(1 + mu)/2.\n",
    "        \n",
    "        sig11_loss = err(sig_x, torch.tensor(sig11))\n",
    "        sig22_loss = err(sig_y, torch.tensor(sig22))\n",
    "        sig12_loss = err(sig_xy, torch.tensor(sig12))\n",
    "        sig_loss.append([sig11_loss,sig22_loss,sig12_loss])"
   ]
  },
  {
   "cell_type": "markdown",
   "metadata": {},
   "source": [
    "## Postprocessing"
   ]
  },
  {
   "cell_type": "code",
   "execution_count": null,
   "metadata": {},
   "outputs": [],
   "source": [
    "xx = [[xx[0].detach().numpy(),xx[1].detach().numpy(),xx[2].detach().numpy()] for xx in sig_loss]"
   ]
  },
  {
   "cell_type": "code",
   "execution_count": null,
   "metadata": {},
   "outputs": [],
   "source": [
    "pd.DataFrame(xx).to_clipboard()"
   ]
  },
  {
   "cell_type": "code",
   "execution_count": null,
   "metadata": {
    "colab": {},
    "colab_type": "code",
    "executionInfo": {
     "elapsed": 1264,
     "status": "ok",
     "timestamp": 1593171388839,
     "user": {
      "displayName": "Wei Li",
      "photoUrl": "https://lh3.googleusercontent.com/a-/AOh14GhDpBCOrnK4hOTfWsA5gKXz99TtzEHgai250Ir8=s64",
      "userId": "01606093525350219267"
     },
     "user_tz": 240
    },
    "id": "yCZf5FTk7WJZ"
   },
   "outputs": [],
   "source": [
    "X_train.requires_grad = True\n",
    "U_pred, dux, duy = derivative(X_train, Net_u)\n",
    "\n",
    "X = X_train[:,0].detach().numpy()*10\n",
    "Y = X_train[:,1].detach().numpy()*10\n",
    "U_pred = U_pred.detach().numpy()*10\n",
    "\n",
    "u1 = U_pred[:,0].reshape(-1,1)\n",
    "u2 = U_pred[:,1].reshape(-1,1)"
   ]
  },
  {
   "cell_type": "code",
   "execution_count": null,
   "metadata": {},
   "outputs": [],
   "source": [
    "np.corrcoef(U1.reshape(1,-1), u1.reshape(1,-1))"
   ]
  },
  {
   "cell_type": "code",
   "execution_count": null,
   "metadata": {
    "colab": {},
    "colab_type": "code",
    "executionInfo": {
     "elapsed": 536,
     "status": "ok",
     "timestamp": 1593171392152,
     "user": {
      "displayName": "Wei Li",
      "photoUrl": "https://lh3.googleusercontent.com/a-/AOh14GhDpBCOrnK4hOTfWsA5gKXz99TtzEHgai250Ir8=s64",
      "userId": "01606093525350219267"
     },
     "user_tz": 240
    },
    "id": "i4PDne5E-BH7"
   },
   "outputs": [],
   "source": [
    "# Then, \"ALWAYS use sans-serif fonts\"\n",
    "plt.rcParams['font.family'] = 'Times New Roman'\n",
    "fig, ax = plt.subplots(figsize=(5.8, 4.8)) \n",
    "surf = ax.scatter(X, Y, c = u1, vmin=0, vmax=0.14, cmap=cm.rainbow)\n",
    "#cbar = fig.colorbar(ax)\n",
    "cb = fig.colorbar(surf)\n",
    "cb.ax.locator_params(nbins=7)\n",
    "cb.ax.tick_params(labelsize=16)\n",
    "#cb.set_label(label =r'$\\sigma_xx (MPa)$', fontsize=16)\n",
    "#cb.set_label(fontsize=16)\n",
    "ax.axis('equal')\n",
    "ax.set_xlabel('X Position (mm)', fontsize=18)\n",
    "ax.set_ylabel('Y Position (mm)', fontsize=18)\n",
    "for tick in ax.get_xticklabels():\n",
    "    #tick.set_fontname('Times New Roman')\n",
    "    tick.set_fontsize(16)\n",
    "for tick in ax.get_yticklabels():\n",
    "    #tick.set_fontname('Times New Roman')\n",
    "    tick.set_fontsize(16)\n",
    "#plt.savefig('Flat-U-NN5-10.png', dpi=600, transparent=True)\n",
    "plt.show()"
   ]
  },
  {
   "cell_type": "code",
   "execution_count": null,
   "metadata": {},
   "outputs": [],
   "source": [
    "du_x, du_y = dux[0], duy[0]\n",
    "dv_x, dv_y = dux[1], duy[1]\n",
    "\n",
    "sig_x = (du_x + mu*dv_y)*E/(1 - mu**2) \n",
    "sig_y = (dv_y + mu*du_x)*E/(1 - mu**2)\n",
    "sig_xy = (dv_x + du_y)*E/(1 + mu)/2.\n",
    "\n",
    "sig_x = sig_x.detach().numpy()\n",
    "sig_y = sig_y.detach().numpy() \n",
    "sig_xy = sig_xy.detach().numpy()"
   ]
  },
  {
   "cell_type": "code",
   "execution_count": null,
   "metadata": {
    "colab": {
     "base_uri": "https://localhost:8080/",
     "height": 265
    },
    "colab_type": "code",
    "executionInfo": {
     "elapsed": 2635,
     "status": "ok",
     "timestamp": 1593174894460,
     "user": {
      "displayName": "Wei Li",
      "photoUrl": "https://lh3.googleusercontent.com/a-/AOh14GhDpBCOrnK4hOTfWsA5gKXz99TtzEHgai250Ir8=s64",
      "userId": "01606093525350219267"
     },
     "user_tz": 240
    },
    "id": "VJThW09Z-uz5",
    "outputId": "10a860f5-4273-4c43-94ab-2ed7d0eecdf9"
   },
   "outputs": [],
   "source": [
    "plt.rcParams['font.family'] = 'Times New Roman'\n",
    "fig, ax = plt.subplots(figsize=(5.8, 4.8)) \n",
    "surf = ax.scatter(X, Y, c = sig_x, vmin=0, vmax=1.0, cmap=cm.rainbow)\n",
    "#cbar = fig.colorbar(ax)\n",
    "cb = fig.colorbar(surf)\n",
    "cb.ax.locator_params(nbins=7)\n",
    "cb.ax.tick_params(labelsize=16)\n",
    "#cb.set_label(label =r'$\\sigma_xx (MPa)$', fontsize=16)\n",
    "#cb.set_label(fontsize=16)\n",
    "ax.axis('equal')\n",
    "ax.set_xlabel('X Position (mm)', fontsize=18)\n",
    "ax.set_ylabel('Y Position (mm)', fontsize=18)\n",
    "for tick in ax.get_xticklabels():\n",
    "    #tick.set_fontname('Times New Roman')\n",
    "    tick.set_fontsize(16)\n",
    "for tick in ax.get_yticklabels():\n",
    "    #tick.set_fontname('Times New Roman')\n",
    "    tick.set_fontsize(16)\n",
    "#plt.savefig('Flat-S-NN-5-10.png', dpi=600, transparent=True)\n",
    "plt.show()"
   ]
  },
  {
   "cell_type": "code",
   "execution_count": null,
   "metadata": {},
   "outputs": [],
   "source": [
    "np.corrcoef(sig12.reshape(1,-1), sig_xy.reshape(1,-1))"
   ]
  },
  {
   "cell_type": "code",
   "execution_count": null,
   "metadata": {},
   "outputs": [],
   "source": [
    "data_out = np.hstack([X.reshape(-1,1),Y.reshape(-1,1),u1,u2,sig_x,sig_y,sig_xy])"
   ]
  },
  {
   "cell_type": "code",
   "execution_count": null,
   "metadata": {},
   "outputs": [],
   "source": [
    "data_out = np.hstack([X.reshape(-1,1),Y.reshape(-1,1),U1,U2,sig11,sig22,sig12])"
   ]
  },
  {
   "cell_type": "code",
   "execution_count": null,
   "metadata": {},
   "outputs": [],
   "source": [
    "df_out = pd.DataFrame(data_out, columns=['X', 'Y', 'U', 'V', 'Sig_x', 'Sig_y', 'Sig_xy'])"
   ]
  },
  {
   "cell_type": "code",
   "execution_count": null,
   "metadata": {},
   "outputs": [],
   "source": [
    "df_out.to_csv('Flat-NN-10-10.csv')"
   ]
  }
 ],
 "metadata": {
  "colab": {
   "collapsed_sections": [],
   "name": "CH_tension_Cartesian_Disp_Energy-2.ipynb",
   "provenance": []
  },
  "kernelspec": {
   "display_name": "Python 3",
   "language": "python",
   "name": "python3"
  },
  "language_info": {
   "codemirror_mode": {
    "name": "ipython",
    "version": 3
   },
   "file_extension": ".py",
   "mimetype": "text/x-python",
   "name": "python",
   "nbconvert_exporter": "python",
   "pygments_lexer": "ipython3",
   "version": "3.8.5"
  }
 },
 "nbformat": 4,
 "nbformat_minor": 4
}
