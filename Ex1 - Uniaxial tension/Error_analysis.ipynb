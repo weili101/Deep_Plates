{
 "cells": [
  {
   "cell_type": "code",
   "execution_count": null,
   "metadata": {},
   "outputs": [],
   "source": [
    "import numpy as np\n",
    "import pandas as pd\n",
    "import matplotlib.pyplot as plt \n",
    "from matplotlib import cm\n",
    "from mpl_toolkits.mplot3d import Axes3D\n",
    "from sklearn.metrics import r2_score"
   ]
  },
  {
   "cell_type": "code",
   "execution_count": null,
   "metadata": {},
   "outputs": [],
   "source": [
    "df1 = pd.read_csv('Flat-FE.csv')\n",
    "df2 = pd.read_csv('Flat-NN-5-5.csv')\n",
    "df3 = pd.read_csv('Flat-NN-5-10.csv')\n",
    "df4 = pd.read_csv('Flat-NN-10-10.csv')"
   ]
  },
  {
   "cell_type": "code",
   "execution_count": null,
   "metadata": {
    "scrolled": true
   },
   "outputs": [],
   "source": [
    "df = pd.read_csv('Flat-PDE-5-5-w10.csv')"
   ]
  },
  {
   "cell_type": "code",
   "execution_count": null,
   "metadata": {},
   "outputs": [],
   "source": [
    "df = pd.read_csv('Flat-PDE-5-5.csv')"
   ]
  },
  {
   "cell_type": "code",
   "execution_count": null,
   "metadata": {},
   "outputs": [],
   "source": [
    "df = pd.read_csv('Flat-NN-5-5.csv')"
   ]
  },
  {
   "cell_type": "code",
   "execution_count": null,
   "metadata": {},
   "outputs": [],
   "source": [
    "df = pd.read_csv('Flat-Energy-10-10-1.csv')"
   ]
  },
  {
   "cell_type": "code",
   "execution_count": null,
   "metadata": {},
   "outputs": [],
   "source": [
    "df = pd.read_csv('Flat-Stress-NN-5-5.csv')"
   ]
  },
  {
   "cell_type": "code",
   "execution_count": null,
   "metadata": {},
   "outputs": [],
   "source": [
    "df"
   ]
  },
  {
   "cell_type": "code",
   "execution_count": null,
   "metadata": {},
   "outputs": [],
   "source": [
    "df[(df['X'] + df['Y']) == 10].to_clipboard()"
   ]
  },
  {
   "cell_type": "code",
   "execution_count": null,
   "metadata": {},
   "outputs": [],
   "source": [
    "max(df['Sig_x'])"
   ]
  },
  {
   "cell_type": "code",
   "execution_count": null,
   "metadata": {},
   "outputs": [],
   "source": [
    "r2_score(df1['U'], dft['U'])"
   ]
  },
  {
   "cell_type": "code",
   "execution_count": null,
   "metadata": {},
   "outputs": [],
   "source": [
    "r2_score(df1['V'], dft['V'])"
   ]
  },
  {
   "cell_type": "code",
   "execution_count": null,
   "metadata": {},
   "outputs": [],
   "source": [
    "r2_score(df1['Sig_x'], dft['Sig_x'])"
   ]
  },
  {
   "cell_type": "code",
   "execution_count": null,
   "metadata": {},
   "outputs": [],
   "source": [
    "r2_score(df1['Sig_y'], dft['Sig_y'])"
   ]
  },
  {
   "cell_type": "code",
   "execution_count": null,
   "metadata": {},
   "outputs": [],
   "source": [
    "r2_score(df1['Sig_xy'], dft['Sig_xy'])"
   ]
  },
  {
   "cell_type": "code",
   "execution_count": null,
   "metadata": {},
   "outputs": [],
   "source": [
    "plt.rcParams['font.family'] = 'Times New Roman'\n",
    "fig, ax = plt.subplots(figsize=(5.8, 4.8)) \n",
    "surf = ax.scatter(df['X'], df['Y'], c = df['Sig_x'], vmin=0, vmax=1.0, cmap=cm.rainbow)\n",
    "#cbar = fig.colorbar(ax)\n",
    "cb = fig.colorbar(surf)\n",
    "cb.ax.locator_params(nbins=7)\n",
    "cb.ax.tick_params(labelsize=16)\n",
    "#cb.set_label(label =r'$\\sigma_xx (MPa)$', fontsize=16)\n",
    "#cb.set_label(fontsize=16)\n",
    "ax.axis('equal')\n",
    "ax.set_xlabel('X Position (mm)', fontsize=18)\n",
    "ax.set_ylabel('Y Position (mm)', fontsize=18)\n",
    "for tick in ax.get_xticklabels():\n",
    "    #tick.set_fontname('Times New Roman')\n",
    "    tick.set_fontsize(16)\n",
    "for tick in ax.get_yticklabels():\n",
    "    #tick.set_fontname('Times New Roman')\n",
    "    tick.set_fontsize(16)\n",
    "plt.savefig('Flat-S-PDE-5-5-W10.png', dpi=600, transparent=True)\n",
    "plt.show()"
   ]
  },
  {
   "cell_type": "code",
   "execution_count": null,
   "metadata": {},
   "outputs": [],
   "source": [
    "# Then, \"ALWAYS use sans-serif fonts\"\n",
    "plt.rcParams['font.family'] = 'Times New Roman'\n",
    "fig, ax = plt.subplots(figsize=(5.8, 4.8)) \n",
    "surf = ax.scatter(df['X'], df['Y'], c = df['U'], vmin=0, vmax=0.14, cmap=cm.rainbow)\n",
    "#cbar = fig.colorbar(ax)\n",
    "cb = fig.colorbar(surf)\n",
    "cb.ax.locator_params(nbins=7)\n",
    "cb.ax.tick_params(labelsize=16)\n",
    "#cb.set_label(label =r'$\\sigma_xx (MPa)$', fontsize=16)\n",
    "#cb.set_label(fontsize=16)\n",
    "ax.axis('equal')\n",
    "ax.set_xlabel('X Position (mm)', fontsize=18)\n",
    "ax.set_ylabel('Y Position (mm)', fontsize=18)\n",
    "for tick in ax.get_xticklabels():\n",
    "    #tick.set_fontname('Times New Roman')\n",
    "    tick.set_fontsize(16)\n",
    "for tick in ax.get_yticklabels():\n",
    "    #tick.set_fontname('Times New Roman')\n",
    "    tick.set_fontsize(16)\n",
    "plt.savefig('Flat-U-PDE-5-5-W10.png', dpi=600, transparent=True)\n",
    "plt.show()"
   ]
  }
 ],
 "metadata": {
  "kernelspec": {
   "display_name": "Python 3",
   "language": "python",
   "name": "python3"
  },
  "language_info": {
   "codemirror_mode": {
    "name": "ipython",
    "version": 3
   },
   "file_extension": ".py",
   "mimetype": "text/x-python",
   "name": "python",
   "nbconvert_exporter": "python",
   "pygments_lexer": "ipython3",
   "version": "3.8.5"
  }
 },
 "nbformat": 4,
 "nbformat_minor": 4
}
