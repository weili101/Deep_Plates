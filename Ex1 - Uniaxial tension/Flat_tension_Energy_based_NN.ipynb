{
 "cells": [
  {
   "cell_type": "markdown",
   "metadata": {
    "colab_type": "text",
    "id": "561TKXHQeym0"
   },
   "source": [
    "# Energy-Based Neural Network"
   ]
  },
  {
   "cell_type": "markdown",
   "metadata": {
    "colab_type": "text",
    "id": "9G9IGxIdeym3"
   },
   "source": [
    "## Import packages"
   ]
  },
  {
   "cell_type": "code",
   "execution_count": 1,
   "metadata": {
    "colab": {},
    "colab_type": "code",
    "executionInfo": {
     "elapsed": 2945,
     "status": "ok",
     "timestamp": 1593773494459,
     "user": {
      "displayName": "Wei Li",
      "photoUrl": "https://lh3.googleusercontent.com/a-/AOh14GhDpBCOrnK4hOTfWsA5gKXz99TtzEHgai250Ir8=s64",
      "userId": "01606093525350219267"
     },
     "user_tz": 240
    },
    "id": "vY1cSGbaeym4"
   },
   "outputs": [],
   "source": [
    "import numpy as np\n",
    "import torch\n",
    "import torch.nn as nn\n",
    "import matplotlib.pyplot as plt \n",
    "from matplotlib import cm\n",
    "from mpl_toolkits.mplot3d import Axes3D\n",
    "import time"
   ]
  },
  {
   "cell_type": "markdown",
   "metadata": {
    "colab_type": "text",
    "id": "02JVNIhJeym8"
   },
   "source": [
    "## User defined neural network\n",
    "* A fully-connected feed-forward network\n",
    "    * **n_input** - dimension of input, 2 in this case(x and y lcation)\n",
    "    * **n_output** - dimension of output, 1 in this case (u - horizontal or v - vertical displacemnt)\n",
    "    * **n_layer** - number of hidden layers\n",
    "    * **n_nodes** - number of nodes of each hidden layer\n",
    "* **two networks are defined seperately for u and v**"
   ]
  },
  {
   "cell_type": "code",
   "execution_count": 2,
   "metadata": {
    "colab": {},
    "colab_type": "code",
    "executionInfo": {
     "elapsed": 2921,
     "status": "ok",
     "timestamp": 1593773494461,
     "user": {
      "displayName": "Wei Li",
      "photoUrl": "https://lh3.googleusercontent.com/a-/AOh14GhDpBCOrnK4hOTfWsA5gKXz99TtzEHgai250Ir8=s64",
      "userId": "01606093525350219267"
     },
     "user_tz": 240
    },
    "id": "AgxWHotHeym8"
   },
   "outputs": [],
   "source": [
    "class Net(nn.Module):\n",
    "\n",
    "    def __init__(self, n_input, n_output, n_layer, n_nodes):\n",
    "        super(Net, self).__init__()\n",
    "        self.n_layer = n_layer\n",
    "        \n",
    "        self.Input = nn.Linear(n_input, n_nodes)   # linear layer\n",
    "        nn.init.xavier_uniform_(self.Input.weight) # wigths and bias initiation\n",
    "        nn.init.normal_(self.Input.bias)\n",
    "\n",
    "        self.Output = nn.Linear(n_nodes, n_output)\n",
    "        nn.init.xavier_uniform_(self.Output.weight)\n",
    "        nn.init.normal_(self.Output.bias)\n",
    "        \n",
    "        self.Hidden = nn.ModuleList() # hidden layer list\n",
    "        for i in range(n_layer):\n",
    "            self.Hidden.append(nn.Linear(n_nodes, n_nodes))\n",
    "        for layer in self.Hidden:\n",
    "            nn.init.xavier_uniform_(layer.weight)\n",
    "            nn.init.normal_(layer.bias)\n",
    "        \n",
    "\n",
    "    def forward(self, x):\n",
    "        y = torch.tanh(self.Input(x)) # tanh activation function\n",
    "        for layer in self.Hidden:\n",
    "            y = torch.tanh(layer(y))\n",
    "        y = self.Output(y)\n",
    "        return y"
   ]
  },
  {
   "cell_type": "markdown",
   "metadata": {
    "colab_type": "text",
    "id": "iIi8aUPjeynA"
   },
   "source": [
    "## Functions for first and sencod partial derivtives"
   ]
  },
  {
   "cell_type": "code",
   "execution_count": 3,
   "metadata": {
    "colab": {},
    "colab_type": "code",
    "executionInfo": {
     "elapsed": 2890,
     "status": "ok",
     "timestamp": 1593773494464,
     "user": {
      "displayName": "Wei Li",
      "photoUrl": "https://lh3.googleusercontent.com/a-/AOh14GhDpBCOrnK4hOTfWsA5gKXz99TtzEHgai250Ir8=s64",
      "userId": "01606093525350219267"
     },
     "user_tz": 240
    },
    "id": "jSwBJQHLeynD"
   },
   "outputs": [],
   "source": [
    "def derivative(x, Net, func):\n",
    "    \n",
    "    w = Net(x)*func(x).view(-1,1)\n",
    "    \n",
    "    dw_xy = torch.autograd.grad(w, x, torch.ones_like(w), retain_graph=True, create_graph=True, allow_unused=True)\n",
    "    dw_x = dw_xy[0][:,0].view(-1,1)\n",
    "    dw_y = dw_xy[0][:,1].view(-1,1)\n",
    "\n",
    "    return w, dw_x, dw_y"
   ]
  },
  {
   "cell_type": "markdown",
   "metadata": {
    "colab_type": "text",
    "id": "YOgH3br9eynJ"
   },
   "source": [
    "## Construct the loss of PDE and boundary condition"
   ]
  },
  {
   "cell_type": "code",
   "execution_count": 4,
   "metadata": {
    "colab": {},
    "colab_type": "code",
    "executionInfo": {
     "elapsed": 2864,
     "status": "ok",
     "timestamp": 1593773494466,
     "user": {
      "displayName": "Wei Li",
      "photoUrl": "https://lh3.googleusercontent.com/a-/AOh14GhDpBCOrnK4hOTfWsA5gKXz99TtzEHgai250Ir8=s64",
      "userId": "01606093525350219267"
     },
     "user_tz": 240
    },
    "id": "waI5wUySeynK"
   },
   "outputs": [],
   "source": [
    "def PDE(x, Net_u, func_u, Net_v, func_v):\n",
    "    \n",
    "    \n",
    "    _, du_x, du_y = derivative(x, Net_u, func_u) \n",
    "    _, dv_x, dv_y = derivative(x, Net_v, func_v)\n",
    "    \n",
    "    du_y, dv_x = du_y*a/b, dv_x*b/a\n",
    "    \n",
    "    eps_xx = du_x \n",
    "    eps_yy = dv_y \n",
    "    eps_xy = 0.5*(du_y + dv_x)\n",
    "    \n",
    "    sig_xx = C*(eps_xx + mu*eps_yy)\n",
    "    sig_yy = C*(eps_yy + mu*eps_xx)\n",
    "    sig_xy = C*(1 - mu)*eps_xy\n",
    "\n",
    "    res = 0.5*(eps_xx*sig_xx + eps_yy*sig_yy + 2*eps_xy*sig_xy)\n",
    "\n",
    "    return torch.mean(res)"
   ]
  },
  {
   "cell_type": "markdown",
   "metadata": {
    "colab_type": "text",
    "id": "-l_m4kE0eynN"
   },
   "source": [
    "## Function for preparing training data\n",
    "* **uniform sampling at the boundary and radom sampling within the solution domain**"
   ]
  },
  {
   "cell_type": "code",
   "execution_count": 5,
   "metadata": {
    "colab": {},
    "colab_type": "code",
    "executionInfo": {
     "elapsed": 659,
     "status": "ok",
     "timestamp": 1593773514747,
     "user": {
      "displayName": "Wei Li",
      "photoUrl": "https://lh3.googleusercontent.com/a-/AOh14GhDpBCOrnK4hOTfWsA5gKXz99TtzEHgai250Ir8=s64",
      "userId": "01606093525350219267"
     },
     "user_tz": 240
    },
    "id": "INp3_6FreynN"
   },
   "outputs": [],
   "source": [
    "def train_data(Nx, Ny, Nf):\n",
    "    \n",
    "    x0 = 1\n",
    "    y0 = 1\n",
    "    \n",
    "    #X2 = np.hstack([ x0*np.ones([Nx,1]), np.random.rand(Nx,1)*y0])\n",
    "    Xb = np.hstack([ x0*np.ones([Nx,1]), y0*np.linspace(0,1,Nx).reshape(-1,1)])\n",
    "    Xb = torch.tensor(Xb, dtype=torch.float32, requires_grad=True)\n",
    "\n",
    "    Yb = np.hstack([np.random.rand(Nx,1)*x0,  y0*np.ones([Ny,1])])\n",
    "    Yb = torch.tensor(Yb, dtype=torch.float32, requires_grad=True)\n",
    "\n",
    "    \n",
    "    Xf = np.random.rand(Nf,2)\n",
    "    Xf = torch.tensor(Xf, dtype=torch.float32, requires_grad=True)\n",
    "    \n",
    "    return Xb, Yb, Xf"
   ]
  },
  {
   "cell_type": "code",
   "execution_count": 6,
   "metadata": {},
   "outputs": [],
   "source": [
    "def err(X, Y):\n",
    "    \n",
    "    return torch.mean(torch.mean((X-Y)**2))"
   ]
  },
  {
   "cell_type": "code",
   "execution_count": 7,
   "metadata": {
    "colab": {},
    "colab_type": "code",
    "executionInfo": {
     "elapsed": 527,
     "status": "ok",
     "timestamp": 1593776971755,
     "user": {
      "displayName": "Wei Li",
      "photoUrl": "https://lh3.googleusercontent.com/a-/AOh14GhDpBCOrnK4hOTfWsA5gKXz99TtzEHgai250Ir8=s64",
      "userId": "01606093525350219267"
     },
     "user_tz": 240
    },
    "id": "yCZf5FTk7WJZ"
   },
   "outputs": [],
   "source": [
    "import pandas as pd\n",
    "data = pd.read_csv('rec-2.csv')\n",
    "X_train = data.iloc[:, 5:7].to_numpy()\n",
    "U = data.iloc[:,11:13].to_numpy()\n",
    "LE = data.iloc[:,13:16].to_numpy()\n",
    "sig = data.iloc[:,16:19].to_numpy()\n",
    "U1 = U[:,0].reshape(-1, 1)\n",
    "U2 = U[:,1].reshape(-1, 1)\n",
    "eps11 = LE[:,0].reshape(-1, 1)\n",
    "eps22 = LE[:,1].reshape(-1, 1)\n",
    "eps12 = LE[:,2].reshape(-1, 1)\n",
    "sig11 = sig[:,0].reshape(-1, 1)\n",
    "sig22 = sig[:,1].reshape(-1, 1)\n",
    "sig12 = sig[:,2].reshape(-1, 1)\n",
    "X_train = torch.tensor(X_train, dtype=torch.float32, requires_grad=True)\n",
    "X_train = X_train/10\n",
    "U = torch.tensor(U, dtype=torch.float32)\n",
    "U = U / 10"
   ]
  },
  {
   "cell_type": "code",
   "execution_count": 8,
   "metadata": {
    "colab": {},
    "colab_type": "code",
    "executionInfo": {
     "elapsed": 743,
     "status": "ok",
     "timestamp": 1593779917800,
     "user": {
      "displayName": "Wei Li",
      "photoUrl": "https://lh3.googleusercontent.com/a-/AOh14GhDpBCOrnK4hOTfWsA5gKXz99TtzEHgai250Ir8=s64",
      "userId": "01606093525350219267"
     },
     "user_tz": 240
    },
    "id": "7n2yuqhQeynR",
    "scrolled": true
   },
   "outputs": [],
   "source": [
    "# Prepare training data\n",
    "Nx = 1000\n",
    "Ny = 1000\n",
    "Nf = 10000\n",
    "Xb1, Xb2, Xf = train_data(Nx, Ny, Nf)\n",
    "\n",
    "#print(Xb1, Xb2, Xb3, Xf)\n",
    "# Construct neural network\n",
    "Net_u = Net(2, 1, 5, 5)\n",
    "Net_v = Net(2, 1, 5, 5)\n",
    "func_u = lambda x:  x[:,0]\n",
    "func_v = lambda x:  x[:,1]"
   ]
  },
  {
   "cell_type": "code",
   "execution_count": 9,
   "metadata": {},
   "outputs": [],
   "source": [
    "E = 70\n",
    "mu = 0.3\n",
    "a = 10\n",
    "b = 10\n",
    "q0 = 1.0\n",
    "C = E/(1 - mu**2)"
   ]
  },
  {
   "cell_type": "code",
   "execution_count": null,
   "metadata": {
    "colab": {
     "base_uri": "https://localhost:8080/",
     "height": 867
    },
    "colab_type": "code",
    "executionInfo": {
     "elapsed": 117581,
     "status": "ok",
     "timestamp": 1593780043803,
     "user": {
      "displayName": "Wei Li",
      "photoUrl": "https://lh3.googleusercontent.com/a-/AOh14GhDpBCOrnK4hOTfWsA5gKXz99TtzEHgai250Ir8=s64",
      "userId": "01606093525350219267"
     },
     "user_tz": 240
    },
    "id": "RjWvy-E5eynY",
    "outputId": "f628d480-c658-48aa-db84-817f6b66bd86",
    "scrolled": true
   },
   "outputs": [
    {
     "name": "stdout",
     "output_type": "stream",
     "text": [
      "epoch:100: total loss:1.7028e+00, Eint:1.7617e+00, Eext:5.8904e-02 \n",
      "epoch:200: total loss:1.3195e-02, Eint:1.8162e-02, Eext:4.9670e-03 \n",
      "epoch:300: total loss:7.8729e-03, Eint:1.2707e-02, Eext:4.8344e-03 \n",
      "epoch:400: total loss:4.4580e-03, Eint:9.6250e-03, Eext:5.1670e-03 \n",
      "epoch:500: total loss:2.2049e-03, Eint:7.6750e-03, Eext:5.4700e-03 \n",
      "epoch:600: total loss:8.2511e-04, Eint:6.4850e-03, Eext:5.6599e-03 \n",
      "epoch:700: total loss:-1.0150e-04, Eint:5.7084e-03, Eext:5.8099e-03 \n",
      "epoch:800: total loss:-7.9070e-04, Eint:5.1469e-03, Eext:5.9376e-03 \n",
      "epoch:900: total loss:-1.2622e-03, Eint:4.7895e-03, Eext:6.0517e-03 \n",
      "epoch:1000: total loss:-1.6416e-03, Eint:4.4915e-03, Eext:6.1331e-03 \n"
     ]
    }
   ],
   "source": [
    "# Construct neural network\n",
    "# optimizer\n",
    "nepoches = 6000\n",
    "learning_rate = 1.0e-3\n",
    "optimizer = torch.optim.Adam(list(Net_u.parameters())+list(Net_v.parameters()), lr=learning_rate)\n",
    "\n",
    "training_loss = []\n",
    "sig_loss = []\n",
    "\n",
    "for epoch in range(nepoches):\n",
    "    \n",
    "    ## Calculate loss\n",
    "    Eint = PDE(Xf, Net_u, func_u, Net_v, func_v)\n",
    "\n",
    "    q = q0 * torch.cos(3.1415/2*Xb1[:,1]).view(-1,1)\n",
    "    Eext = torch.mean(q *Net_u(Xb1)*func_u(Xb1).view(-1,1))\n",
    "\n",
    "    loss = Eint - Eext\n",
    "    \n",
    "    loss.backward()\n",
    "\n",
    "    if (epoch+1) % 200 == 0:\n",
    "        Xb1, Xb2, Xf = train_data(Nx, Ny, Nf)\n",
    "    \n",
    "    optimizer.step()\n",
    "    optimizer.zero_grad()\n",
    "    if (epoch+1) % 100 == 0:\n",
    "        print(f'epoch:{epoch+1}: total loss:{loss:.4e}, Eint:{Eint:.4e}, Eext:{Eext:.4e} ')\n",
    "        \n",
    "    if (epoch+1) % 10 ==0: \n",
    "        with torch.no_grad():\n",
    "            U_pred = Net_u(X_train)*func_u(X_train).view(-1,1)\n",
    "            V_pred = Net_v(X_train)*func_v(X_train).view(-1,1)\n",
    "            loss = err(torch.cat((U_pred, V_pred), 1), U)\n",
    "            training_loss.append(loss)\n",
    "        \n",
    "        _, du_x, du_y,= derivative(X_train, Net_u, func_u)\n",
    "        _, dv_x, dv_y,= derivative(X_train, Net_v, func_v)\n",
    "\n",
    "        E, mu = 70, 0.3\n",
    "        sig_x = (du_x + mu*dv_y)*E/(1 - mu**2)  \n",
    "        sig_y = (dv_y + mu*du_x)*E/(1 - mu**2)\n",
    "        sig_xy = (dv_x + du_y)*E/(1 + mu)/2.\n",
    " \n",
    "        sig11_loss = err(sig_x, torch.tensor(sig11))\n",
    "        sig22_loss = err(sig_y, torch.tensor(sig22))\n",
    "        sig12_loss = err(sig_xy, torch.tensor(sig12))\n",
    "        sig_loss.append([sig11_loss, sig22_loss, sig12_loss]) "
   ]
  },
  {
   "cell_type": "code",
   "execution_count": null,
   "metadata": {},
   "outputs": [],
   "source": [
    "torch.save({'Net_u':Net_u.state_dict(), 'Net_v': Net_v.state_dict() }, 'energy-5-5.pt')"
   ]
  },
  {
   "cell_type": "code",
   "execution_count": null,
   "metadata": {},
   "outputs": [],
   "source": [
    "xx = [[xx[0].detach().numpy (),xx[1].detach().numpy(),xx[2].detach().numpy()] for xx in sig_loss1]"
   ]
  },
  {
   "cell_type": "code",
   "execution_count": null,
   "metadata": {
    "colab": {},
    "colab_type": "code",
    "executionInfo": {
     "elapsed": 606,
     "status": "ok",
     "timestamp": 1593776928184,
     "user": {
      "displayName": "Wei Li",
      "photoUrl": "https://lh3.googleusercontent.com/a-/AOh14GhDpBCOrnK4hOTfWsA5gKXz99TtzEHgai250Ir8=s64",
      "userId": "01606093525350219267"
     },
     "user_tz": 240
    },
    "id": "NcKythzc5ian"
   },
   "outputs": [],
   "source": [
    "xx = [xx.detach().numpy() for xx in training_loss1]"
   ]
  },
  {
   "cell_type": "code",
   "execution_count": null,
   "metadata": {},
   "outputs": [],
   "source": [
    "pd.DataFrame(xx).to_clipboard()"
   ]
  },
  {
   "cell_type": "code",
   "execution_count": null,
   "metadata": {},
   "outputs": [],
   "source": [
    "u1 = Net_u(X_train)*func_u(X_train).view(-1,1)\n",
    "u2 = Net_v(X_train)*func_v(X_train).view(-1,1)\n",
    "\n",
    "u1 = u1.detach().numpy().reshape(-1,1)*10\n",
    "u2 = u2.detach().numpy().reshape(-1,1)*10\n",
    "\n",
    "X = X_train[:,0].detach().numpy().reshape(-1,1)*10\n",
    "Y = X_train[:,1].detach().numpy().reshape(-1,1)*10"
   ]
  },
  {
   "cell_type": "code",
   "execution_count": null,
   "metadata": {},
   "outputs": [],
   "source": [
    "np.corrcoef(U1.reshape(1,-1), u1.reshape(1,-1))"
   ]
  },
  {
   "cell_type": "code",
   "execution_count": null,
   "metadata": {
    "colab": {
     "base_uri": "https://localhost:8080/",
     "height": 265
    },
    "colab_type": "code",
    "executionInfo": {
     "elapsed": 2478,
     "status": "ok",
     "timestamp": 1593777127353,
     "user": {
      "displayName": "Wei Li",
      "photoUrl": "https://lh3.googleusercontent.com/a-/AOh14GhDpBCOrnK4hOTfWsA5gKXz99TtzEHgai250Ir8=s64",
      "userId": "01606093525350219267"
     },
     "user_tz": 240
    },
    "id": "VJThW09Z-uz5",
    "outputId": "90d4543a-9ade-4218-b76c-210be0bd49a6"
   },
   "outputs": [],
   "source": [
    "# Then, \"ALWAYS use sans-serif fonts\"\n",
    "plt.rcParams['font.family'] = 'Times New Roman'\n",
    "fig, ax = plt.subplots(figsize=(5.8, 4.8)) \n",
    "surf = ax.scatter(X, Y, c = u1, vmin=0, vmax=0.14, cmap=cm.rainbow)\n",
    "#cbar = fig.colorbar(ax)\n",
    "cb = fig.colorbar(surf)\n",
    "cb.ax.locator_params(nbins=7)\n",
    "cb.ax.tick_params(labelsize=16)\n",
    "#cb.set_label(label =r'$\\sigma_xx (MPa)$', fontsize=16)\n",
    "#cb.set_label(fontsize=16)\n",
    "ax.axis('equal')\n",
    "ax.set_xlabel('X Position (mm)', fontsize=18)\n",
    "ax.set_ylabel('Y Position (mm)', fontsize=18)\n",
    "for tick in ax.get_xticklabels():\n",
    "    #tick.set_fontname('Times New Roman')\n",
    "    tick.set_fontsize(16)\n",
    "for tick in ax.get_yticklabels():\n",
    "    #tick.set_fontname('Times New Roman')\n",
    "    tick.set_fontsize(16)\n",
    "#plt.savefig('Flat-U-Energy-10-10.png', dpi=600, transparent=True)\n",
    "plt.show()"
   ]
  },
  {
   "cell_type": "code",
   "execution_count": null,
   "metadata": {},
   "outputs": [],
   "source": [
    "_, du_x, du_y,= derivativs2(X_train, Net_u, func_u)\n",
    "_, dv_x, dv_y,= derivativs2(X_train, Net_v, func_v)\n",
    "\n",
    "E, mu = 70, 0.3\n",
    "sig_x = (du_x + mu*dv_y)*E/(1 - mu**2)\n",
    "sig_y = (dv_y + mu*du_x)*E/(1 - mu**2)\n",
    "sig_xy = (dv_x + du_y)*E/(1 + mu)/2.\n",
    "\n",
    "sig_x = sig_x.detach().numpy()\n",
    "sig_y = sig_y.detach().numpy() \n",
    "sig_xy = sig_xy.detach().numpy()"
   ]
  },
  {
   "cell_type": "code",
   "execution_count": null,
   "metadata": {},
   "outputs": [],
   "source": [
    "np.corrcoef(sig12.reshape(1,-1), sig_xy.reshape(1,-1))"
   ]
  },
  {
   "cell_type": "code",
   "execution_count": null,
   "metadata": {},
   "outputs": [],
   "source": [
    "max(sig_x)"
   ]
  },
  {
   "cell_type": "markdown",
   "metadata": {
    "colab_type": "text",
    "id": "gFbhkxLbeyne"
   },
   "source": [
    "## Post-processing"
   ]
  },
  {
   "cell_type": "code",
   "execution_count": null,
   "metadata": {
    "colab": {
     "base_uri": "https://localhost:8080/",
     "height": 265
    },
    "colab_type": "code",
    "executionInfo": {
     "elapsed": 2105,
     "status": "ok",
     "timestamp": 1593780069835,
     "user": {
      "displayName": "Wei Li",
      "photoUrl": "https://lh3.googleusercontent.com/a-/AOh14GhDpBCOrnK4hOTfWsA5gKXz99TtzEHgai250Ir8=s64",
      "userId": "01606093525350219267"
     },
     "user_tz": 240
    },
    "id": "c6KLFjLCeynf",
    "outputId": "3eda8edc-5817-4dc7-ca45-fd65d9370c23"
   },
   "outputs": [],
   "source": [
    "plt.rcParams['font.family'] = 'Times New Roman'\n",
    "fig, ax = plt.subplots(figsize=(5.8, 4.8)) \n",
    "surf = ax.scatter(X, Y, c = sig_x, vmin=0, vmax=1.0, cmap=cm.rainbow)\n",
    "#cbar = fig.colorbar(ax)\n",
    "cb = fig.colorbar(surf)\n",
    "cb.ax.locator_params(nbins=7)\n",
    "cb.ax.tick_params(labelsize=16)\n",
    "#cb.set_label(label =r'$\\sigma_xx (MPa)$', fontsize=16)\n",
    "#cb.set_label(fontsize=16)\n",
    "ax.axis('equal')\n",
    "ax.set_xlabel('X Position (mm)', fontsize=18)\n",
    "ax.set_ylabel('Y Position (mm)', fontsize=18)\n",
    "for tick in ax.get_xticklabels():\n",
    "    #tick.set_fontname('Times New Roman')\n",
    "    tick.set_fontsize(16)\n",
    "for tick in ax.get_yticklabels():\n",
    "    #tick.set_fontname('Times New Roman')\n",
    "    tick.set_fontsize(16)\n",
    "#plt.savefig('Flat-S-Energy-10-10.png', dpi=600, transparent=True)\n",
    "plt.show()"
   ]
  },
  {
   "cell_type": "code",
   "execution_count": null,
   "metadata": {},
   "outputs": [],
   "source": [
    "data_out = np.hstack([X.reshape(-1,1),Y.reshape(-1,1),u1,u2,sig_x,sig_y,sig_xy])"
   ]
  },
  {
   "cell_type": "code",
   "execution_count": null,
   "metadata": {},
   "outputs": [],
   "source": [
    "data_out = np.hstack([X.reshape(-1,1),Y.reshape(-1,1),U1,U2,sig11,sig22,sig12])"
   ]
  },
  {
   "cell_type": "code",
   "execution_count": null,
   "metadata": {},
   "outputs": [],
   "source": [
    "df_out = pd.DataFrame(data_out, columns=['X', 'Y', 'U', 'V', 'Sig_x', 'Sig_y', 'Sig_xy'])"
   ]
  },
  {
   "cell_type": "code",
   "execution_count": null,
   "metadata": {},
   "outputs": [],
   "source": [
    "df_out.to_csv('Flat-Energy-10-10-1.csv')"
   ]
  }
 ],
 "metadata": {
  "colab": {
   "collapsed_sections": [],
   "name": "Flat_tension_Cartesian_Disp_Energy-2.ipynb",
   "provenance": [
    {
     "file_id": "1gi93BL36z6OVWoyzW4StEMk8Rd6NBVot",
     "timestamp": 1593738400555
    }
   ]
  },
  "kernelspec": {
   "display_name": "Python 3",
   "language": "python",
   "name": "python3"
  },
  "language_info": {
   "codemirror_mode": {
    "name": "ipython",
    "version": 3
   },
   "file_extension": ".py",
   "mimetype": "text/x-python",
   "name": "python",
   "nbconvert_exporter": "python",
   "pygments_lexer": "ipython3",
   "version": "3.8.5"
  }
 },
 "nbformat": 4,
 "nbformat_minor": 4
}
