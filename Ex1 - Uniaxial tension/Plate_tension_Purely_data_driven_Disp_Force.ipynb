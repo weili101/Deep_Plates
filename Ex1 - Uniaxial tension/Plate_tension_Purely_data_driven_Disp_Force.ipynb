{
 "cells": [
  {
   "cell_type": "markdown",
   "metadata": {
    "colab_type": "text",
    "id": "561TKXHQeym0"
   },
   "source": [
    "# Purely data-driven model trained with both displacement and fmembran force fields"
   ]
  },
  {
   "cell_type": "markdown",
   "metadata": {
    "colab_type": "text",
    "id": "9G9IGxIdeym3"
   },
   "source": [
    "## Import packages"
   ]
  },
  {
   "cell_type": "code",
   "execution_count": 1,
   "metadata": {
    "colab": {},
    "colab_type": "code",
    "executionInfo": {
     "elapsed": 2974,
     "status": "ok",
     "timestamp": 1593169440790,
     "user": {
      "displayName": "Wei Li",
      "photoUrl": "https://lh3.googleusercontent.com/a-/AOh14GhDpBCOrnK4hOTfWsA5gKXz99TtzEHgai250Ir8=s64",
      "userId": "01606093525350219267"
     },
     "user_tz": 240
    },
    "id": "vY1cSGbaeym4"
   },
   "outputs": [],
   "source": [
    "import numpy as np\n",
    "import torch\n",
    "import torch.nn as nn\n",
    "import pandas as pd\n",
    "import matplotlib.pyplot as plt \n",
    "from matplotlib import cm\n",
    "from mpl_toolkits.mplot3d import Axes3D\n",
    "import pandas as pd"
   ]
  },
  {
   "cell_type": "markdown",
   "metadata": {
    "colab_type": "text",
    "id": "02JVNIhJeym8"
   },
   "source": [
    "## User defined neural network\n",
    "* A fully-connected feed-forward network\n",
    "    * **n_input** - dimension of input, 2 in this case(x and y lcation)\n",
    "    * **n_output** - dimension of output, 1 in this case (u - horizontal or v - vertical displacemnt)\n",
    "    * **n_layer** - number of hidden layers\n",
    "    * **n_nodes** - number of nodes of each hidden layer\n",
    "* **two networks are defined seperately for u and v**"
   ]
  },
  {
   "cell_type": "code",
   "execution_count": 2,
   "metadata": {
    "colab": {},
    "colab_type": "code",
    "executionInfo": {
     "elapsed": 2959,
     "status": "ok",
     "timestamp": 1593169440792,
     "user": {
      "displayName": "Wei Li",
      "photoUrl": "https://lh3.googleusercontent.com/a-/AOh14GhDpBCOrnK4hOTfWsA5gKXz99TtzEHgai250Ir8=s64",
      "userId": "01606093525350219267"
     },
     "user_tz": 240
    },
    "id": "AgxWHotHeym8"
   },
   "outputs": [],
   "source": [
    "class Net(nn.Module):\n",
    "\n",
    "    def __init__(self, n_input, n_output, n_layer, n_nodes):\n",
    "        super(Net, self).__init__()\n",
    "        self.n_layer = n_layer\n",
    "        \n",
    "        self.Input = nn.Linear(n_input, n_nodes)   # linear layer\n",
    "        nn.init.xavier_uniform_(self.Input.weight) # wigths and bias initiation\n",
    "        nn.init.normal_(self.Input.bias)\n",
    "\n",
    "        self.Output = nn.Linear(n_nodes, n_output)\n",
    "        nn.init.xavier_uniform_(self.Output.weight)\n",
    "        nn.init.normal_(self.Output.bias)\n",
    "        \n",
    "        self.Hidden = nn.ModuleList() # hidden layer list\n",
    "        for i in range(n_layer):\n",
    "            self.Hidden.append(nn.Linear(n_nodes, n_nodes))\n",
    "        for layer in self.Hidden:\n",
    "            nn.init.xavier_uniform_(layer.weight)\n",
    "            nn.init.normal_(layer.bias)\n",
    "        \n",
    "\n",
    "    def forward(self, x):\n",
    "        y = torch.tanh(self.Input(x)) # tanh activation function\n",
    "        for layer in self.Hidden:\n",
    "            y = torch.tanh(layer(y))\n",
    "        y = self.Output(y)\n",
    "        return y"
   ]
  },
  {
   "cell_type": "code",
   "execution_count": 3,
   "metadata": {},
   "outputs": [],
   "source": [
    "def derivativs2(x, Net):\n",
    "    \n",
    "    w = Net(x)\n",
    "    dw_x = []\n",
    "    dw_y = []\n",
    "    \n",
    "    for i in range(w.size()[1]):\n",
    "        \n",
    "        #print(Net(x),func(x).view(-1,1),w)\n",
    "        dw_xy = torch.autograd.grad(w[:,i], x, torch.ones_like(w[:,i]), retain_graph=True, \n",
    "                                    create_graph=True, allow_unused=True)\n",
    "        dw_x.append(dw_xy[0][:,0].view(-1,1))\n",
    "        dw_y.append(dw_xy[0][:,1].view(-1,1))\n",
    "\n",
    "    return w, dw_x, dw_y"
   ]
  },
  {
   "cell_type": "code",
   "execution_count": 4,
   "metadata": {},
   "outputs": [],
   "source": [
    "def loss_fcn(Net, X, Y):\n",
    "     \n",
    "    U_pred, dux, duy = derivativs2(X, Net)\n",
    "    \n",
    "    du_x, du_y = dux[0], duy[0]\n",
    "    dv_x, dv_y = dux[1], duy[1]\n",
    "\n",
    "    E, mu = 70, 0.3\n",
    "    sig_x = (du_x + mu*dv_y)*E/(1 - mu**2) \n",
    "    sig_y = (dv_y + mu*du_x)*E/(1 - mu**2)\n",
    "    sig_xy = (dv_x + du_y)*E/(1 + mu)/2.\n",
    "\n",
    "    Y_pred = torch.cat((sig_x,sig_y,sig_xy), 1)\n",
    "    \n",
    "    loss = err(Y_pred, Y)\n",
    "    \n",
    "    return loss"
   ]
  },
  {
   "cell_type": "markdown",
   "metadata": {
    "colab_type": "text",
    "id": "-l_m4kE0eynN"
   },
   "source": [
    "## Preparing training data"
   ]
  },
  {
   "cell_type": "code",
   "execution_count": 5,
   "metadata": {},
   "outputs": [],
   "source": [
    "class Dataset(torch.utils.data.Dataset):\n",
    "\n",
    "    def __init__(self, X, Y):\n",
    "        \n",
    "        self.X = X\n",
    "        self.Y = Y\n",
    "        \n",
    "    def __len__(self):\n",
    "        \n",
    "        return len(self.X)\n",
    "\n",
    "    def __getitem__(self, index):\n",
    "        \n",
    "        x = self.X[index]\n",
    "        y = self.Y[index]\n",
    "\n",
    "        return x, y"
   ]
  },
  {
   "cell_type": "code",
   "execution_count": 6,
   "metadata": {},
   "outputs": [],
   "source": [
    "def err(X, Y):\n",
    "    \n",
    "    return torch.mean(torch.mean((X-Y)**2))"
   ]
  },
  {
   "cell_type": "code",
   "execution_count": 7,
   "metadata": {},
   "outputs": [],
   "source": [
    "data = pd.read_csv('rec-2.csv')\n",
    "X_train = data.iloc[:, 5:7].to_numpy()\n",
    "U = data.iloc[:,11:13].to_numpy()\n",
    "LE = data.iloc[:,13:16].to_numpy()\n",
    "sig = data.iloc[:,16:19].to_numpy()\n",
    "U1 = U[:,0].reshape(-1, 1)\n",
    "U2 = U[:,1].reshape(-1, 1)\n",
    "eps11 = LE[:,0].reshape(-1, 1)\n",
    "eps22 = LE[:,1].reshape(-1, 1)\n",
    "eps12 = LE[:,2].reshape(-1, 1)\n",
    "sig11 = sig[:,0].reshape(-1, 1)\n",
    "sig22 = sig[:,1].reshape(-1, 1)\n",
    "sig12 = sig[:,2].reshape(-1, 1)"
   ]
  },
  {
   "cell_type": "code",
   "execution_count": 8,
   "metadata": {},
   "outputs": [],
   "source": [
    "X_train = X_train/10\n",
    "X_train = torch.tensor(X_train, dtype=torch.float32, requires_grad=True)\n",
    "U = torch.tensor(U, dtype=torch.float32)\n",
    "U = U / 10\n",
    "Sig = torch.tensor(sig, dtype=torch.float32)"
   ]
  },
  {
   "cell_type": "code",
   "execution_count": 9,
   "metadata": {
    "colab": {},
    "colab_type": "code",
    "executionInfo": {
     "elapsed": 812,
     "status": "ok",
     "timestamp": 1593171003888,
     "user": {
      "displayName": "Wei Li",
      "photoUrl": "https://lh3.googleusercontent.com/a-/AOh14GhDpBCOrnK4hOTfWsA5gKXz99TtzEHgai250Ir8=s64",
      "userId": "01606093525350219267"
     },
     "user_tz": 240
    },
    "id": "7n2yuqhQeynR",
    "scrolled": true
   },
   "outputs": [],
   "source": [
    "# Prepare training data\n",
    "Net_u = Net(2, 2, 5, 5)"
   ]
  },
  {
   "cell_type": "code",
   "execution_count": 10,
   "metadata": {
    "colab": {
     "base_uri": "https://localhost:8080/",
     "height": 527
    },
    "colab_type": "code",
    "executionInfo": {
     "elapsed": 194106,
     "status": "ok",
     "timestamp": 1593174726499,
     "user": {
      "displayName": "Wei Li",
      "photoUrl": "https://lh3.googleusercontent.com/a-/AOh14GhDpBCOrnK4hOTfWsA5gKXz99TtzEHgai250Ir8=s64",
      "userId": "01606093525350219267"
     },
     "user_tz": 240
    },
    "id": "RjWvy-E5eynY",
    "outputId": "169158bd-888b-4aa3-91c5-1b1e5c7aaf6a",
    "scrolled": true
   },
   "outputs": [
    {
     "name": "stdout",
     "output_type": "stream",
     "text": [
      "epoch:100: loss:1.6472e-03,loss1:1.7540e-05,loss2:1.6297e-03 \n",
      "epoch:200: loss:3.0868e-04,loss1:2.5144e-06,loss2:3.0616e-04 \n",
      "epoch:300: loss:2.3217e-04,loss1:2.6986e-07,loss2:2.3190e-04 \n"
     ]
    },
    {
     "ename": "KeyboardInterrupt",
     "evalue": "",
     "output_type": "error",
     "traceback": [
      "\u001b[0;31m---------------------------------------------------------------------------\u001b[0m",
      "\u001b[0;31mKeyboardInterrupt\u001b[0m                         Traceback (most recent call last)",
      "\u001b[0;32m<ipython-input-10-442cf061e1a3>\u001b[0m in \u001b[0;36m<module>\u001b[0;34m\u001b[0m\n\u001b[1;32m     12\u001b[0m     \u001b[0;32mfor\u001b[0m \u001b[0mX_batch\u001b[0m\u001b[0;34m,\u001b[0m \u001b[0mY_batch\u001b[0m  \u001b[0;32min\u001b[0m \u001b[0mtraining_generator\u001b[0m\u001b[0;34m:\u001b[0m\u001b[0;34m\u001b[0m\u001b[0;34m\u001b[0m\u001b[0m\n\u001b[1;32m     13\u001b[0m \u001b[0;34m\u001b[0m\u001b[0m\n\u001b[0;32m---> 14\u001b[0;31m         \u001b[0mU_pred\u001b[0m \u001b[0;34m=\u001b[0m \u001b[0mNet_u\u001b[0m\u001b[0;34m(\u001b[0m\u001b[0mX_train\u001b[0m\u001b[0;34m)\u001b[0m\u001b[0;34m\u001b[0m\u001b[0;34m\u001b[0m\u001b[0m\n\u001b[0m\u001b[1;32m     15\u001b[0m \u001b[0;34m\u001b[0m\u001b[0m\n\u001b[1;32m     16\u001b[0m         \u001b[0mloss_uv\u001b[0m \u001b[0;34m=\u001b[0m \u001b[0merr\u001b[0m\u001b[0;34m(\u001b[0m\u001b[0mU_pred\u001b[0m\u001b[0;34m,\u001b[0m \u001b[0mU\u001b[0m\u001b[0;34m)\u001b[0m\u001b[0;34m\u001b[0m\u001b[0;34m\u001b[0m\u001b[0m\n",
      "\u001b[0;32m~/.local/lib/python3.8/site-packages/torch/nn/modules/module.py\u001b[0m in \u001b[0;36m_call_impl\u001b[0;34m(self, *input, **kwargs)\u001b[0m\n\u001b[1;32m    887\u001b[0m             \u001b[0mresult\u001b[0m \u001b[0;34m=\u001b[0m \u001b[0mself\u001b[0m\u001b[0;34m.\u001b[0m\u001b[0m_slow_forward\u001b[0m\u001b[0;34m(\u001b[0m\u001b[0;34m*\u001b[0m\u001b[0minput\u001b[0m\u001b[0;34m,\u001b[0m \u001b[0;34m**\u001b[0m\u001b[0mkwargs\u001b[0m\u001b[0;34m)\u001b[0m\u001b[0;34m\u001b[0m\u001b[0;34m\u001b[0m\u001b[0m\n\u001b[1;32m    888\u001b[0m         \u001b[0;32melse\u001b[0m\u001b[0;34m:\u001b[0m\u001b[0;34m\u001b[0m\u001b[0;34m\u001b[0m\u001b[0m\n\u001b[0;32m--> 889\u001b[0;31m             \u001b[0mresult\u001b[0m \u001b[0;34m=\u001b[0m \u001b[0mself\u001b[0m\u001b[0;34m.\u001b[0m\u001b[0mforward\u001b[0m\u001b[0;34m(\u001b[0m\u001b[0;34m*\u001b[0m\u001b[0minput\u001b[0m\u001b[0;34m,\u001b[0m \u001b[0;34m**\u001b[0m\u001b[0mkwargs\u001b[0m\u001b[0;34m)\u001b[0m\u001b[0;34m\u001b[0m\u001b[0;34m\u001b[0m\u001b[0m\n\u001b[0m\u001b[1;32m    890\u001b[0m         for hook in itertools.chain(\n\u001b[1;32m    891\u001b[0m                 \u001b[0m_global_forward_hooks\u001b[0m\u001b[0;34m.\u001b[0m\u001b[0mvalues\u001b[0m\u001b[0;34m(\u001b[0m\u001b[0;34m)\u001b[0m\u001b[0;34m,\u001b[0m\u001b[0;34m\u001b[0m\u001b[0;34m\u001b[0m\u001b[0m\n",
      "\u001b[0;32m<ipython-input-2-9f9bc4753cb0>\u001b[0m in \u001b[0;36mforward\u001b[0;34m(self, x)\u001b[0m\n\u001b[1;32m     24\u001b[0m         \u001b[0my\u001b[0m \u001b[0;34m=\u001b[0m \u001b[0mtorch\u001b[0m\u001b[0;34m.\u001b[0m\u001b[0mtanh\u001b[0m\u001b[0;34m(\u001b[0m\u001b[0mself\u001b[0m\u001b[0;34m.\u001b[0m\u001b[0mInput\u001b[0m\u001b[0;34m(\u001b[0m\u001b[0mx\u001b[0m\u001b[0;34m)\u001b[0m\u001b[0;34m)\u001b[0m \u001b[0;31m# tanh activation function\u001b[0m\u001b[0;34m\u001b[0m\u001b[0;34m\u001b[0m\u001b[0m\n\u001b[1;32m     25\u001b[0m         \u001b[0;32mfor\u001b[0m \u001b[0mlayer\u001b[0m \u001b[0;32min\u001b[0m \u001b[0mself\u001b[0m\u001b[0;34m.\u001b[0m\u001b[0mHidden\u001b[0m\u001b[0;34m:\u001b[0m\u001b[0;34m\u001b[0m\u001b[0;34m\u001b[0m\u001b[0m\n\u001b[0;32m---> 26\u001b[0;31m             \u001b[0my\u001b[0m \u001b[0;34m=\u001b[0m \u001b[0mtorch\u001b[0m\u001b[0;34m.\u001b[0m\u001b[0mtanh\u001b[0m\u001b[0;34m(\u001b[0m\u001b[0mlayer\u001b[0m\u001b[0;34m(\u001b[0m\u001b[0my\u001b[0m\u001b[0;34m)\u001b[0m\u001b[0;34m)\u001b[0m\u001b[0;34m\u001b[0m\u001b[0;34m\u001b[0m\u001b[0m\n\u001b[0m\u001b[1;32m     27\u001b[0m         \u001b[0my\u001b[0m \u001b[0;34m=\u001b[0m \u001b[0mself\u001b[0m\u001b[0;34m.\u001b[0m\u001b[0mOutput\u001b[0m\u001b[0;34m(\u001b[0m\u001b[0my\u001b[0m\u001b[0;34m)\u001b[0m\u001b[0;34m\u001b[0m\u001b[0;34m\u001b[0m\u001b[0m\n\u001b[1;32m     28\u001b[0m         \u001b[0;32mreturn\u001b[0m \u001b[0my\u001b[0m\u001b[0;34m\u001b[0m\u001b[0;34m\u001b[0m\u001b[0m\n",
      "\u001b[0;32m~/.local/lib/python3.8/site-packages/torch/nn/modules/module.py\u001b[0m in \u001b[0;36m_call_impl\u001b[0;34m(self, *input, **kwargs)\u001b[0m\n\u001b[1;32m    887\u001b[0m             \u001b[0mresult\u001b[0m \u001b[0;34m=\u001b[0m \u001b[0mself\u001b[0m\u001b[0;34m.\u001b[0m\u001b[0m_slow_forward\u001b[0m\u001b[0;34m(\u001b[0m\u001b[0;34m*\u001b[0m\u001b[0minput\u001b[0m\u001b[0;34m,\u001b[0m \u001b[0;34m**\u001b[0m\u001b[0mkwargs\u001b[0m\u001b[0;34m)\u001b[0m\u001b[0;34m\u001b[0m\u001b[0;34m\u001b[0m\u001b[0m\n\u001b[1;32m    888\u001b[0m         \u001b[0;32melse\u001b[0m\u001b[0;34m:\u001b[0m\u001b[0;34m\u001b[0m\u001b[0;34m\u001b[0m\u001b[0m\n\u001b[0;32m--> 889\u001b[0;31m             \u001b[0mresult\u001b[0m \u001b[0;34m=\u001b[0m \u001b[0mself\u001b[0m\u001b[0;34m.\u001b[0m\u001b[0mforward\u001b[0m\u001b[0;34m(\u001b[0m\u001b[0;34m*\u001b[0m\u001b[0minput\u001b[0m\u001b[0;34m,\u001b[0m \u001b[0;34m**\u001b[0m\u001b[0mkwargs\u001b[0m\u001b[0;34m)\u001b[0m\u001b[0;34m\u001b[0m\u001b[0;34m\u001b[0m\u001b[0m\n\u001b[0m\u001b[1;32m    890\u001b[0m         for hook in itertools.chain(\n\u001b[1;32m    891\u001b[0m                 \u001b[0m_global_forward_hooks\u001b[0m\u001b[0;34m.\u001b[0m\u001b[0mvalues\u001b[0m\u001b[0;34m(\u001b[0m\u001b[0;34m)\u001b[0m\u001b[0;34m,\u001b[0m\u001b[0;34m\u001b[0m\u001b[0;34m\u001b[0m\u001b[0m\n",
      "\u001b[0;32m~/.local/lib/python3.8/site-packages/torch/nn/modules/linear.py\u001b[0m in \u001b[0;36mforward\u001b[0;34m(self, input)\u001b[0m\n\u001b[1;32m     92\u001b[0m \u001b[0;34m\u001b[0m\u001b[0m\n\u001b[1;32m     93\u001b[0m     \u001b[0;32mdef\u001b[0m \u001b[0mforward\u001b[0m\u001b[0;34m(\u001b[0m\u001b[0mself\u001b[0m\u001b[0;34m,\u001b[0m \u001b[0minput\u001b[0m\u001b[0;34m:\u001b[0m \u001b[0mTensor\u001b[0m\u001b[0;34m)\u001b[0m \u001b[0;34m->\u001b[0m \u001b[0mTensor\u001b[0m\u001b[0;34m:\u001b[0m\u001b[0;34m\u001b[0m\u001b[0;34m\u001b[0m\u001b[0m\n\u001b[0;32m---> 94\u001b[0;31m         \u001b[0;32mreturn\u001b[0m \u001b[0mF\u001b[0m\u001b[0;34m.\u001b[0m\u001b[0mlinear\u001b[0m\u001b[0;34m(\u001b[0m\u001b[0minput\u001b[0m\u001b[0;34m,\u001b[0m \u001b[0mself\u001b[0m\u001b[0;34m.\u001b[0m\u001b[0mweight\u001b[0m\u001b[0;34m,\u001b[0m \u001b[0mself\u001b[0m\u001b[0;34m.\u001b[0m\u001b[0mbias\u001b[0m\u001b[0;34m)\u001b[0m\u001b[0;34m\u001b[0m\u001b[0;34m\u001b[0m\u001b[0m\n\u001b[0m\u001b[1;32m     95\u001b[0m \u001b[0;34m\u001b[0m\u001b[0m\n\u001b[1;32m     96\u001b[0m     \u001b[0;32mdef\u001b[0m \u001b[0mextra_repr\u001b[0m\u001b[0;34m(\u001b[0m\u001b[0mself\u001b[0m\u001b[0;34m)\u001b[0m \u001b[0;34m->\u001b[0m \u001b[0mstr\u001b[0m\u001b[0;34m:\u001b[0m\u001b[0;34m\u001b[0m\u001b[0;34m\u001b[0m\u001b[0m\n",
      "\u001b[0;32m~/.local/lib/python3.8/site-packages/torch/nn/functional.py\u001b[0m in \u001b[0;36mlinear\u001b[0;34m(input, weight, bias)\u001b[0m\n\u001b[1;32m   1751\u001b[0m     \u001b[0;32mif\u001b[0m \u001b[0mhas_torch_function_variadic\u001b[0m\u001b[0;34m(\u001b[0m\u001b[0minput\u001b[0m\u001b[0;34m,\u001b[0m \u001b[0mweight\u001b[0m\u001b[0;34m)\u001b[0m\u001b[0;34m:\u001b[0m\u001b[0;34m\u001b[0m\u001b[0;34m\u001b[0m\u001b[0m\n\u001b[1;32m   1752\u001b[0m         \u001b[0;32mreturn\u001b[0m \u001b[0mhandle_torch_function\u001b[0m\u001b[0;34m(\u001b[0m\u001b[0mlinear\u001b[0m\u001b[0;34m,\u001b[0m \u001b[0;34m(\u001b[0m\u001b[0minput\u001b[0m\u001b[0;34m,\u001b[0m \u001b[0mweight\u001b[0m\u001b[0;34m)\u001b[0m\u001b[0;34m,\u001b[0m \u001b[0minput\u001b[0m\u001b[0;34m,\u001b[0m \u001b[0mweight\u001b[0m\u001b[0;34m,\u001b[0m \u001b[0mbias\u001b[0m\u001b[0;34m=\u001b[0m\u001b[0mbias\u001b[0m\u001b[0;34m)\u001b[0m\u001b[0;34m\u001b[0m\u001b[0;34m\u001b[0m\u001b[0m\n\u001b[0;32m-> 1753\u001b[0;31m     \u001b[0;32mreturn\u001b[0m \u001b[0mtorch\u001b[0m\u001b[0;34m.\u001b[0m\u001b[0m_C\u001b[0m\u001b[0;34m.\u001b[0m\u001b[0m_nn\u001b[0m\u001b[0;34m.\u001b[0m\u001b[0mlinear\u001b[0m\u001b[0;34m(\u001b[0m\u001b[0minput\u001b[0m\u001b[0;34m,\u001b[0m \u001b[0mweight\u001b[0m\u001b[0;34m,\u001b[0m \u001b[0mbias\u001b[0m\u001b[0;34m)\u001b[0m\u001b[0;34m\u001b[0m\u001b[0;34m\u001b[0m\u001b[0m\n\u001b[0m\u001b[1;32m   1754\u001b[0m \u001b[0;34m\u001b[0m\u001b[0m\n\u001b[1;32m   1755\u001b[0m \u001b[0;34m\u001b[0m\u001b[0m\n",
      "\u001b[0;31mKeyboardInterrupt\u001b[0m: "
     ]
    }
   ],
   "source": [
    "# Construct neural network\n",
    "# optimizer\n",
    "nepoches = 3000\n",
    "learning_rate = 1.0e-3\n",
    "optimizer = torch.optim.Adam(Net_u.parameters(), lr=learning_rate)\n",
    "training_set = Dataset(X_train, Sig)\n",
    "training_generator = torch.utils.data.DataLoader(training_set, batch_size= 128)\n",
    "training_loss = []\n",
    "sig_loss = []\n",
    "for epoch in range(nepoches):\n",
    "    \n",
    "    for X_batch, Y_batch  in training_generator:\n",
    "        \n",
    "        U_pred = Net_u(X_train)\n",
    "        \n",
    "        loss_uv = err(U_pred, U)\n",
    "        \n",
    "        loss_sig = loss_fcn(Net_u, X_batch, Y_batch)\n",
    "        \n",
    "        loss = loss_uv + loss_sig\n",
    "        \n",
    "        loss.backward()\n",
    "         \n",
    "        optimizer.step()\n",
    "        optimizer.zero_grad()\n",
    "        \n",
    "    if (epoch+1) % 100 == 0:\n",
    "        print(f'epoch:{epoch+1}: loss:{loss:.4e},loss1:{loss_uv:.4e},loss2:{loss_sig:.4e} ')\n",
    "        \n",
    "    if (epoch+1) % 10 == 0:\n",
    "        \n",
    "        U_pred = Net_u(X_train)\n",
    "        \n",
    "        loss = loss_fcn(Net_u, X_train, Sig)\n",
    "        \n",
    "        \n",
    "        loss_uv = err(U_pred, U)\n",
    "        \n",
    "        training_loss.append(loss_uv)\n",
    "        sig_loss.append(loss) "
   ]
  },
  {
   "cell_type": "markdown",
   "metadata": {},
   "source": [
    "## Postprocessing"
   ]
  },
  {
   "cell_type": "code",
   "execution_count": null,
   "metadata": {},
   "outputs": [],
   "source": [
    "torch.save({'Net_u':Net_u.state_dict()}, 'NN-Stress-5-5.pt')"
   ]
  },
  {
   "cell_type": "code",
   "execution_count": null,
   "metadata": {},
   "outputs": [],
   "source": [
    "xx = [xx.detach().numpy() for xx in sig_loss]"
   ]
  },
  {
   "cell_type": "code",
   "execution_count": null,
   "metadata": {},
   "outputs": [],
   "source": [
    "xx = [xx.detach().numpy() for xx in training_loss]"
   ]
  },
  {
   "cell_type": "code",
   "execution_count": null,
   "metadata": {},
   "outputs": [],
   "source": [
    "pd.DataFrame(xx).to_clipboard()"
   ]
  },
  {
   "cell_type": "code",
   "execution_count": null,
   "metadata": {
    "colab": {},
    "colab_type": "code",
    "executionInfo": {
     "elapsed": 1264,
     "status": "ok",
     "timestamp": 1593171388839,
     "user": {
      "displayName": "Wei Li",
      "photoUrl": "https://lh3.googleusercontent.com/a-/AOh14GhDpBCOrnK4hOTfWsA5gKXz99TtzEHgai250Ir8=s64",
      "userId": "01606093525350219267"
     },
     "user_tz": 240
    },
    "id": "yCZf5FTk7WJZ"
   },
   "outputs": [],
   "source": [
    "#X_train.requires_grad = True\n",
    "U_pred = Net_u(X_train)\n",
    "X = X_train[:,0].detach().numpy()*10\n",
    "Y = X_train[:,1].detach().numpy()*10\n",
    "U_pred = U_pred.detach().numpy()*10\n",
    "\n",
    "u1 = U_pred[:,0].reshape(-1,1)\n",
    "u2 = U_pred[:,1].reshape(-1,1)"
   ]
  },
  {
   "cell_type": "code",
   "execution_count": null,
   "metadata": {},
   "outputs": [],
   "source": [
    "min(u1)"
   ]
  },
  {
   "cell_type": "code",
   "execution_count": null,
   "metadata": {},
   "outputs": [],
   "source": [
    "np.corrcoef(U1.reshape(1,-1), u1.reshape(1,-1))"
   ]
  },
  {
   "cell_type": "code",
   "execution_count": null,
   "metadata": {},
   "outputs": [],
   "source": [
    "np.corrcoef(U2.reshape(1,-1), u2.reshape(1,-1))"
   ]
  },
  {
   "cell_type": "code",
   "execution_count": null,
   "metadata": {
    "colab": {},
    "colab_type": "code",
    "executionInfo": {
     "elapsed": 536,
     "status": "ok",
     "timestamp": 1593171392152,
     "user": {
      "displayName": "Wei Li",
      "photoUrl": "https://lh3.googleusercontent.com/a-/AOh14GhDpBCOrnK4hOTfWsA5gKXz99TtzEHgai250Ir8=s64",
      "userId": "01606093525350219267"
     },
     "user_tz": 240
    },
    "id": "i4PDne5E-BH7"
   },
   "outputs": [],
   "source": [
    "# Then, \"ALWAYS use sans-serif fonts\"\n",
    "plt.rcParams['font.family'] = 'Times New Roman'\n",
    "fig, ax = plt.subplots(figsize=(5.8, 4.8)) \n",
    "surf = ax.scatter(X, Y, c = u1, vmin=0, vmax=0.14, cmap=cm.rainbow)\n",
    "#cbar = fig.colorbar(ax)\n",
    "cb = fig.colorbar(surf)\n",
    "cb.ax.locator_params(nbins=7)\n",
    "cb.ax.tick_params(labelsize=16)\n",
    "#cb.set_label(label =r'$\\sigma_xx (MPa)$', fontsize=16)\n",
    "#cb.set_label(fontsize=16)\n",
    "ax.axis('equal')\n",
    "ax.set_xlabel('X Position (mm)', fontsize=18)\n",
    "ax.set_ylabel('Y Position (mm)', fontsize=18)\n",
    "for tick in ax.get_xticklabels():\n",
    "    #tick.set_fontname('Times New Roman')\n",
    "    tick.set_fontsize(16)\n",
    "for tick in ax.get_yticklabels():\n",
    "    #tick.set_fontname('Times New Roman')\n",
    "    tick.set_fontsize(16)\n",
    "#plt.savefig('Flat-U-NN10-20.png', dpi=600, transparent=True)\n",
    "plt.show()"
   ]
  },
  {
   "cell_type": "code",
   "execution_count": null,
   "metadata": {},
   "outputs": [],
   "source": [
    "_, dux, duy = derivativs2(X_train, Net_u)\n",
    "du_x, du_y = dux[0], duy[0]\n",
    "dv_x, dv_y = dux[1], duy[1]\n",
    "\n",
    "E, mu = 70, 0.3\n",
    "sig_x = (du_x + mu*dv_y)*E/(1 - mu**2) \n",
    "sig_y = (dv_y + mu*du_x)*E/(1 - mu**2)\n",
    "sig_xy = (dv_x + du_y)*E/(1 + mu)/2.\n",
    "\n",
    "sig_x = sig_x.detach().numpy()\n",
    "sig_y = sig_y.detach().numpy() \n",
    "sig_xy = sig_xy.detach().numpy()"
   ]
  },
  {
   "cell_type": "code",
   "execution_count": null,
   "metadata": {
    "colab": {
     "base_uri": "https://localhost:8080/",
     "height": 265
    },
    "colab_type": "code",
    "executionInfo": {
     "elapsed": 2635,
     "status": "ok",
     "timestamp": 1593174894460,
     "user": {
      "displayName": "Wei Li",
      "photoUrl": "https://lh3.googleusercontent.com/a-/AOh14GhDpBCOrnK4hOTfWsA5gKXz99TtzEHgai250Ir8=s64",
      "userId": "01606093525350219267"
     },
     "user_tz": 240
    },
    "id": "VJThW09Z-uz5",
    "outputId": "10a860f5-4273-4c43-94ab-2ed7d0eecdf9"
   },
   "outputs": [],
   "source": [
    "plt.rcParams['font.family'] = 'Times New Roman'\n",
    "fig, ax = plt.subplots(figsize=(5.8, 4.8)) \n",
    "surf = ax.scatter(X, Y, c = sig_x, vmin=0, vmax=1.0, cmap=cm.rainbow)\n",
    "#cbar = fig.colorbar(ax)\n",
    "cb = fig.colorbar(surf)\n",
    "cb.ax.locator_params(nbins=7)\n",
    "cb.ax.tick_params(labelsize=16)\n",
    "#cb.set_label(label =r'$\\sigma_xx (MPa)$', fontsize=16)\n",
    "#cb.set_label(fontsize=16)\n",
    "ax.axis('equal')\n",
    "ax.set_xlabel('X Position (mm)', fontsize=18)\n",
    "ax.set_ylabel('Y Position (mm)', fontsize=18)\n",
    "for tick in ax.get_xticklabels():\n",
    "    #tick.set_fontname('Times New Roman')\n",
    "    tick.set_fontsize(16)\n",
    "for tick in ax.get_yticklabels():\n",
    "    #tick.set_fontname('Times New Roman')\n",
    "    tick.set_fontsize(16)\n",
    "#plt.savefig('Flat-S-NN5-5.png', dpi=600, transparent=True)\n",
    "plt.show()"
   ]
  },
  {
   "cell_type": "code",
   "execution_count": null,
   "metadata": {},
   "outputs": [],
   "source": [
    "np.corrcoef(sig22.reshape(1,-1), sig_y.reshape(1,-1))"
   ]
  },
  {
   "cell_type": "code",
   "execution_count": null,
   "metadata": {},
   "outputs": [],
   "source": [
    "data_out = np.hstack([X.reshape(-1,1),Y.reshape(-1,1),u1,u2,sig_x,sig_y,sig_xy])\n",
    "df_out = pd.DataFrame(data_out, columns=['X', 'Y', 'U', 'V', 'Sig_x', 'Sig_y', 'Sig_xy'])"
   ]
  },
  {
   "cell_type": "code",
   "execution_count": null,
   "metadata": {},
   "outputs": [],
   "source": [
    "df_out.to_csv('Flat-Stress-NN-5-5.csv')"
   ]
  }
 ],
 "metadata": {
  "colab": {
   "collapsed_sections": [],
   "name": "CH_tension_Cartesian_Disp_Energy-2.ipynb",
   "provenance": []
  },
  "kernelspec": {
   "display_name": "Python 3",
   "language": "python",
   "name": "python3"
  },
  "language_info": {
   "codemirror_mode": {
    "name": "ipython",
    "version": 3
   },
   "file_extension": ".py",
   "mimetype": "text/x-python",
   "name": "python",
   "nbconvert_exporter": "python",
   "pygments_lexer": "ipython3",
   "version": "3.8.5"
  }
 },
 "nbformat": 4,
 "nbformat_minor": 4
}
