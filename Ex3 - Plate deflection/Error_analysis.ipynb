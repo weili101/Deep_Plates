{
 "cells": [
  {
   "cell_type": "code",
   "execution_count": 1,
   "metadata": {},
   "outputs": [],
   "source": [
    "import numpy as np\n",
    "import pandas as pd\n",
    "import matplotlib.pyplot as plt \n",
    "from matplotlib import cm\n",
    "from mpl_toolkits.mplot3d import Axes3D\n",
    "from sklearn.metrics import r2_score"
   ]
  },
  {
   "cell_type": "code",
   "execution_count": 2,
   "metadata": {
    "scrolled": true
   },
   "outputs": [],
   "source": [
    "df0 = pd.read_csv('deflection-punch-FE.csv')"
   ]
  },
  {
   "cell_type": "code",
   "execution_count": 3,
   "metadata": {
    "scrolled": true
   },
   "outputs": [],
   "source": [
    "df = pd.read_csv('Deflection-Punch-Energy-2.csv')"
   ]
  },
  {
   "cell_type": "code",
   "execution_count": 23,
   "metadata": {},
   "outputs": [],
   "source": [
    "df = df0"
   ]
  },
  {
   "cell_type": "code",
   "execution_count": 46,
   "metadata": {},
   "outputs": [],
   "source": [
    "df2 = df[ abs(df['Y']) <= 0.0001]"
   ]
  },
  {
   "cell_type": "code",
   "execution_count": 47,
   "metadata": {},
   "outputs": [],
   "source": [
    "df2 = df2.sort_values(by=['X'])"
   ]
  },
  {
   "cell_type": "code",
   "execution_count": 12,
   "metadata": {
    "scrolled": true
   },
   "outputs": [
    {
     "data": {
      "text/html": [
       "<div>\n",
       "<style scoped>\n",
       "    .dataframe tbody tr th:only-of-type {\n",
       "        vertical-align: middle;\n",
       "    }\n",
       "\n",
       "    .dataframe tbody tr th {\n",
       "        vertical-align: top;\n",
       "    }\n",
       "\n",
       "    .dataframe thead th {\n",
       "        text-align: right;\n",
       "    }\n",
       "</style>\n",
       "<table border=\"1\" class=\"dataframe\">\n",
       "  <thead>\n",
       "    <tr style=\"text-align: right;\">\n",
       "      <th></th>\n",
       "      <th>Unnamed: 0</th>\n",
       "      <th>X</th>\n",
       "      <th>Y</th>\n",
       "      <th>U-U1</th>\n",
       "      <th>U-U2</th>\n",
       "      <th>U-U3</th>\n",
       "      <th>S11</th>\n",
       "      <th>S22</th>\n",
       "      <th>S12</th>\n",
       "    </tr>\n",
       "  </thead>\n",
       "  <tbody>\n",
       "    <tr>\n",
       "      <th>0</th>\n",
       "      <td>2</td>\n",
       "      <td>-10.0000</td>\n",
       "      <td>0.0000</td>\n",
       "      <td>-2.787410e-02</td>\n",
       "      <td>-2.044550e-08</td>\n",
       "      <td>-1.601090</td>\n",
       "      <td>-0.000066</td>\n",
       "      <td>0.060121</td>\n",
       "      <td>-2.390220e-07</td>\n",
       "    </tr>\n",
       "    <tr>\n",
       "      <th>1</th>\n",
       "      <td>5</td>\n",
       "      <td>-50.0000</td>\n",
       "      <td>0.0000</td>\n",
       "      <td>7.727780e-40</td>\n",
       "      <td>2.301210e-40</td>\n",
       "      <td>-0.000000</td>\n",
       "      <td>-0.197062</td>\n",
       "      <td>-0.059095</td>\n",
       "      <td>1.779000e-06</td>\n",
       "    </tr>\n",
       "    <tr>\n",
       "      <th>2</th>\n",
       "      <td>6</td>\n",
       "      <td>-50.0000</td>\n",
       "      <td>-50.0000</td>\n",
       "      <td>2.802600e-45</td>\n",
       "      <td>1.401300e-45</td>\n",
       "      <td>0.000000</td>\n",
       "      <td>0.000537</td>\n",
       "      <td>0.000543</td>\n",
       "      <td>-1.007560e-04</td>\n",
       "    </tr>\n",
       "    <tr>\n",
       "      <th>3</th>\n",
       "      <td>11</td>\n",
       "      <td>0.0000</td>\n",
       "      <td>-50.0000</td>\n",
       "      <td>3.002170e-40</td>\n",
       "      <td>1.005920e-39</td>\n",
       "      <td>-0.000000</td>\n",
       "      <td>-0.054688</td>\n",
       "      <td>-0.182646</td>\n",
       "      <td>-6.543040e-05</td>\n",
       "    </tr>\n",
       "    <tr>\n",
       "      <th>4</th>\n",
       "      <td>12</td>\n",
       "      <td>0.0000</td>\n",
       "      <td>-20.0000</td>\n",
       "      <td>8.892720e-08</td>\n",
       "      <td>-1.500050e-02</td>\n",
       "      <td>-1.337050</td>\n",
       "      <td>0.159621</td>\n",
       "      <td>0.000300</td>\n",
       "      <td>2.092350e-05</td>\n",
       "    </tr>\n",
       "    <tr>\n",
       "      <th>...</th>\n",
       "      <td>...</td>\n",
       "      <td>...</td>\n",
       "      <td>...</td>\n",
       "      <td>...</td>\n",
       "      <td>...</td>\n",
       "      <td>...</td>\n",
       "      <td>...</td>\n",
       "      <td>...</td>\n",
       "      <td>...</td>\n",
       "    </tr>\n",
       "    <tr>\n",
       "      <th>34007</th>\n",
       "      <td>102023</td>\n",
       "      <td>21.4363</td>\n",
       "      <td>33.5083</td>\n",
       "      <td>5.490260e-03</td>\n",
       "      <td>1.027220e-02</td>\n",
       "      <td>-0.775735</td>\n",
       "      <td>0.033165</td>\n",
       "      <td>0.047905</td>\n",
       "      <td>-1.162700e-02</td>\n",
       "    </tr>\n",
       "    <tr>\n",
       "      <th>34008</th>\n",
       "      <td>102024</td>\n",
       "      <td>22.2973</td>\n",
       "      <td>33.7733</td>\n",
       "      <td>5.502690e-03</td>\n",
       "      <td>1.003560e-02</td>\n",
       "      <td>-0.757158</td>\n",
       "      <td>0.032498</td>\n",
       "      <td>0.047026</td>\n",
       "      <td>-1.181140e-02</td>\n",
       "    </tr>\n",
       "    <tr>\n",
       "      <th>34009</th>\n",
       "      <td>102029</td>\n",
       "      <td>22.1756</td>\n",
       "      <td>33.3769</td>\n",
       "      <td>5.691420e-03</td>\n",
       "      <td>1.014150e-02</td>\n",
       "      <td>-0.772764</td>\n",
       "      <td>0.033050</td>\n",
       "      <td>0.047002</td>\n",
       "      <td>-1.196790e-02</td>\n",
       "    </tr>\n",
       "    <tr>\n",
       "      <th>34010</th>\n",
       "      <td>102030</td>\n",
       "      <td>28.7767</td>\n",
       "      <td>30.4933</td>\n",
       "      <td>8.226200e-03</td>\n",
       "      <td>8.445240e-03</td>\n",
       "      <td>-0.762117</td>\n",
       "      <td>0.034935</td>\n",
       "      <td>0.037381</td>\n",
       "      <td>-1.466790e-02</td>\n",
       "    </tr>\n",
       "    <tr>\n",
       "      <th>34011</th>\n",
       "      <td>102035</td>\n",
       "      <td>22.3304</td>\n",
       "      <td>26.9982</td>\n",
       "      <td>9.450970e-03</td>\n",
       "      <td>1.049800e-02</td>\n",
       "      <td>-0.969634</td>\n",
       "      <td>0.039891</td>\n",
       "      <td>0.044755</td>\n",
       "      <td>-1.533720e-02</td>\n",
       "    </tr>\n",
       "  </tbody>\n",
       "</table>\n",
       "<p>34012 rows × 9 columns</p>\n",
       "</div>"
      ],
      "text/plain": [
       "       Unnamed: 0        X        Y            U-U1            U-U2  \\\n",
       "0               2 -10.0000   0.0000   -2.787410e-02   -2.044550e-08   \n",
       "1               5 -50.0000   0.0000    7.727780e-40    2.301210e-40   \n",
       "2               6 -50.0000 -50.0000    2.802600e-45    1.401300e-45   \n",
       "3              11   0.0000 -50.0000    3.002170e-40    1.005920e-39   \n",
       "4              12   0.0000 -20.0000    8.892720e-08   -1.500050e-02   \n",
       "...           ...      ...      ...             ...             ...   \n",
       "34007      102023  21.4363  33.5083    5.490260e-03    1.027220e-02   \n",
       "34008      102024  22.2973  33.7733    5.502690e-03    1.003560e-02   \n",
       "34009      102029  22.1756  33.3769    5.691420e-03    1.014150e-02   \n",
       "34010      102030  28.7767  30.4933    8.226200e-03    8.445240e-03   \n",
       "34011      102035  22.3304  26.9982    9.450970e-03    1.049800e-02   \n",
       "\n",
       "                 U-U3       S11       S22           S12  \n",
       "0           -1.601090 -0.000066  0.060121 -2.390220e-07  \n",
       "1           -0.000000 -0.197062 -0.059095  1.779000e-06  \n",
       "2            0.000000  0.000537  0.000543 -1.007560e-04  \n",
       "3           -0.000000 -0.054688 -0.182646 -6.543040e-05  \n",
       "4           -1.337050  0.159621  0.000300  2.092350e-05  \n",
       "...               ...       ...       ...           ...  \n",
       "34007       -0.775735  0.033165  0.047905 -1.162700e-02  \n",
       "34008       -0.757158  0.032498  0.047026 -1.181140e-02  \n",
       "34009       -0.772764  0.033050  0.047002 -1.196790e-02  \n",
       "34010       -0.762117  0.034935  0.037381 -1.466790e-02  \n",
       "34011       -0.969634  0.039891  0.044755 -1.533720e-02  \n",
       "\n",
       "[34012 rows x 9 columns]"
      ]
     },
     "execution_count": 12,
     "metadata": {},
     "output_type": "execute_result"
    }
   ],
   "source": [
    "df0"
   ]
  },
  {
   "cell_type": "code",
   "execution_count": 48,
   "metadata": {},
   "outputs": [],
   "source": [
    "df2.to_clipboard()"
   ]
  },
  {
   "cell_type": "code",
   "execution_count": 14,
   "metadata": {},
   "outputs": [
    {
     "data": {
      "text/plain": [
       "0.9753081586936011"
      ]
     },
     "execution_count": 14,
     "metadata": {},
     "output_type": "execute_result"
    }
   ],
   "source": [
    "r2_score(df['W'], -df0.iloc[:,5:6])"
   ]
  },
  {
   "cell_type": "code",
   "execution_count": 98,
   "metadata": {},
   "outputs": [
    {
     "data": {
      "text/plain": [
       "0.988280148948191"
      ]
     },
     "execution_count": 98,
     "metadata": {},
     "output_type": "execute_result"
    }
   ],
   "source": [
    "r2_score(df0['V'], df['V'])"
   ]
  },
  {
   "cell_type": "code",
   "execution_count": 99,
   "metadata": {},
   "outputs": [
    {
     "data": {
      "text/plain": [
       "0.9182407993867345"
      ]
     },
     "execution_count": 99,
     "metadata": {},
     "output_type": "execute_result"
    }
   ],
   "source": [
    "r2_score(df0['Sig_x'], df['Sig_x'])"
   ]
  },
  {
   "cell_type": "code",
   "execution_count": 100,
   "metadata": {
    "scrolled": true
   },
   "outputs": [
    {
     "data": {
      "text/plain": [
       "0.8672083455700109"
      ]
     },
     "execution_count": 100,
     "metadata": {},
     "output_type": "execute_result"
    }
   ],
   "source": [
    "r2_score(df0['Sig_y'], df['Sig_y'])"
   ]
  },
  {
   "cell_type": "code",
   "execution_count": 101,
   "metadata": {
    "scrolled": true
   },
   "outputs": [
    {
     "data": {
      "text/plain": [
       "0.9907993111810526"
      ]
     },
     "execution_count": 101,
     "metadata": {},
     "output_type": "execute_result"
    }
   ],
   "source": [
    "r2_score(df0['Sig_xy'], df['Sig_xy'])"
   ]
  },
  {
   "cell_type": "code",
   "execution_count": 95,
   "metadata": {},
   "outputs": [],
   "source": [
    "data = pd.read_csv('CH-3-Hole.csv')"
   ]
  },
  {
   "cell_type": "code",
   "execution_count": 51,
   "metadata": {},
   "outputs": [],
   "source": [
    "clms = data.columns"
   ]
  },
  {
   "cell_type": "code",
   "execution_count": 52,
   "metadata": {},
   "outputs": [],
   "source": [
    "data = data.drop(columns=[*clms[0:5],clms[7], *clms[8:11]])"
   ]
  },
  {
   "cell_type": "code",
   "execution_count": 61,
   "metadata": {},
   "outputs": [],
   "source": [
    "data.columns = df.columns[1:]"
   ]
  },
  {
   "cell_type": "code",
   "execution_count": 62,
   "metadata": {},
   "outputs": [
    {
     "data": {
      "text/html": [
       "<div>\n",
       "<style scoped>\n",
       "    .dataframe tbody tr th:only-of-type {\n",
       "        vertical-align: middle;\n",
       "    }\n",
       "\n",
       "    .dataframe tbody tr th {\n",
       "        vertical-align: top;\n",
       "    }\n",
       "\n",
       "    .dataframe thead th {\n",
       "        text-align: right;\n",
       "    }\n",
       "</style>\n",
       "<table border=\"1\" class=\"dataframe\">\n",
       "  <thead>\n",
       "    <tr style=\"text-align: right;\">\n",
       "      <th></th>\n",
       "      <th>X</th>\n",
       "      <th>Y</th>\n",
       "      <th>U</th>\n",
       "      <th>V</th>\n",
       "      <th>Sig_x</th>\n",
       "      <th>Sig_y</th>\n",
       "      <th>Sig_xy</th>\n",
       "    </tr>\n",
       "  </thead>\n",
       "  <tbody>\n",
       "    <tr>\n",
       "      <th>0</th>\n",
       "      <td>-4.45430</td>\n",
       "      <td>-1.27477</td>\n",
       "      <td>0.029345</td>\n",
       "      <td>-0.005826</td>\n",
       "      <td>0.150279</td>\n",
       "      <td>0.018880</td>\n",
       "      <td>0.100110</td>\n",
       "    </tr>\n",
       "    <tr>\n",
       "      <th>1</th>\n",
       "      <td>-4.74876</td>\n",
       "      <td>-1.79820</td>\n",
       "      <td>0.019337</td>\n",
       "      <td>0.001731</td>\n",
       "      <td>-0.022133</td>\n",
       "      <td>-0.357751</td>\n",
       "      <td>-0.094392</td>\n",
       "    </tr>\n",
       "    <tr>\n",
       "      <th>2</th>\n",
       "      <td>-4.93306</td>\n",
       "      <td>-2.36980</td>\n",
       "      <td>0.013417</td>\n",
       "      <td>0.010120</td>\n",
       "      <td>-0.029857</td>\n",
       "      <td>-0.762444</td>\n",
       "      <td>-0.103794</td>\n",
       "    </tr>\n",
       "    <tr>\n",
       "      <th>3</th>\n",
       "      <td>-4.99981</td>\n",
       "      <td>-2.96665</td>\n",
       "      <td>0.011343</td>\n",
       "      <td>0.019367</td>\n",
       "      <td>-0.028680</td>\n",
       "      <td>-1.044010</td>\n",
       "      <td>0.013517</td>\n",
       "    </tr>\n",
       "    <tr>\n",
       "      <th>4</th>\n",
       "      <td>-4.94635</td>\n",
       "      <td>-3.56484</td>\n",
       "      <td>0.013659</td>\n",
       "      <td>0.030275</td>\n",
       "      <td>-0.069404</td>\n",
       "      <td>-1.055810</td>\n",
       "      <td>0.189241</td>\n",
       "    </tr>\n",
       "    <tr>\n",
       "      <th>...</th>\n",
       "      <td>...</td>\n",
       "      <td>...</td>\n",
       "      <td>...</td>\n",
       "      <td>...</td>\n",
       "      <td>...</td>\n",
       "      <td>...</td>\n",
       "      <td>...</td>\n",
       "    </tr>\n",
       "    <tr>\n",
       "      <th>10978</th>\n",
       "      <td>4.75571</td>\n",
       "      <td>-5.49709</td>\n",
       "      <td>0.377218</td>\n",
       "      <td>0.103507</td>\n",
       "      <td>1.053310</td>\n",
       "      <td>-0.009103</td>\n",
       "      <td>0.221930</td>\n",
       "    </tr>\n",
       "    <tr>\n",
       "      <th>10979</th>\n",
       "      <td>4.88097</td>\n",
       "      <td>-5.46438</td>\n",
       "      <td>0.379585</td>\n",
       "      <td>0.102548</td>\n",
       "      <td>1.049730</td>\n",
       "      <td>-0.004062</td>\n",
       "      <td>0.218134</td>\n",
       "    </tr>\n",
       "    <tr>\n",
       "      <th>10980</th>\n",
       "      <td>5.23157</td>\n",
       "      <td>-5.76316</td>\n",
       "      <td>0.380566</td>\n",
       "      <td>0.101626</td>\n",
       "      <td>1.075260</td>\n",
       "      <td>0.000740</td>\n",
       "      <td>0.203850</td>\n",
       "    </tr>\n",
       "    <tr>\n",
       "      <th>10981</th>\n",
       "      <td>5.42644</td>\n",
       "      <td>-5.51796</td>\n",
       "      <td>0.387034</td>\n",
       "      <td>0.099269</td>\n",
       "      <td>1.054680</td>\n",
       "      <td>0.014557</td>\n",
       "      <td>0.200985</td>\n",
       "    </tr>\n",
       "    <tr>\n",
       "      <th>10982</th>\n",
       "      <td>5.42861</td>\n",
       "      <td>-5.35681</td>\n",
       "      <td>0.389316</td>\n",
       "      <td>0.098567</td>\n",
       "      <td>1.044450</td>\n",
       "      <td>0.018306</td>\n",
       "      <td>0.200851</td>\n",
       "    </tr>\n",
       "  </tbody>\n",
       "</table>\n",
       "<p>10983 rows × 7 columns</p>\n",
       "</div>"
      ],
      "text/plain": [
       "             X        Y         U         V     Sig_x     Sig_y    Sig_xy\n",
       "0     -4.45430 -1.27477  0.029345 -0.005826  0.150279  0.018880  0.100110\n",
       "1     -4.74876 -1.79820  0.019337  0.001731 -0.022133 -0.357751 -0.094392\n",
       "2     -4.93306 -2.36980  0.013417  0.010120 -0.029857 -0.762444 -0.103794\n",
       "3     -4.99981 -2.96665  0.011343  0.019367 -0.028680 -1.044010  0.013517\n",
       "4     -4.94635 -3.56484  0.013659  0.030275 -0.069404 -1.055810  0.189241\n",
       "...        ...      ...       ...       ...       ...       ...       ...\n",
       "10978  4.75571 -5.49709  0.377218  0.103507  1.053310 -0.009103  0.221930\n",
       "10979  4.88097 -5.46438  0.379585  0.102548  1.049730 -0.004062  0.218134\n",
       "10980  5.23157 -5.76316  0.380566  0.101626  1.075260  0.000740  0.203850\n",
       "10981  5.42644 -5.51796  0.387034  0.099269  1.054680  0.014557  0.200985\n",
       "10982  5.42861 -5.35681  0.389316  0.098567  1.044450  0.018306  0.200851\n",
       "\n",
       "[10983 rows x 7 columns]"
      ]
     },
     "execution_count": 62,
     "metadata": {},
     "output_type": "execute_result"
    }
   ],
   "source": [
    "data"
   ]
  },
  {
   "cell_type": "code",
   "execution_count": 135,
   "metadata": {},
   "outputs": [
    {
     "data": {
      "image/png": "[encoded data removed]",
      "text/plain": [
       "<Figure size 417.6x345.6 with 2 Axes>"
      ]
     },
     "metadata": {
      "needs_background": "light"
     },
     "output_type": "display_data"
    }
   ],
   "source": [
    "plt.rcParams['font.family'] = 'Times New Roman'\n",
    "fig, ax = plt.subplots(figsize=(5.8, 4.8)) \n",
    "surf = ax.scatter(df['X'], df['Y'], c = df0['Sig_x'], vmin=0, vmax=3.0, cmap=cm.rainbow)\n",
    "#cbar = fig.colorbar(ax)\n",
    "cb = fig.colorbar(surf)\n",
    "cb.ax.locator_params(nbins=7)\n",
    "cb.ax.tick_params(labelsize=16)\n",
    "#cb.set_label(label =r'$\\sigma_xx (MPa)$', fontsize=16)\n",
    "#cb.set_label(fontsize=16)\n",
    "ax.axis('equal')\n",
    "ax.set_xlabel('X Position (mm)', fontsize=18)\n",
    "ax.set_ylabel('Y Position (mm)', fontsize=18)\n",
    "#plt.yticks(ticks=[-10, -5, 0, 5, 10])\n",
    "for tick in ax.get_xticklabels():\n",
    "    #tick.set_fontname('Times New Roman')\n",
    "    tick.set_fontsize(16)\n",
    "for tick in ax.get_yticklabels():\n",
    "    #tick.set_fontname('Times New Roman')\n",
    "    tick.set_fontsize(16)\n",
    "#plt.savefig('CH-3-Hole-Stress-FE.png', dpi=600, transparent=True)\n",
    "plt.show()"
   ]
  },
  {
   "cell_type": "code",
   "execution_count": 113,
   "metadata": {},
   "outputs": [
    {
     "data": {
      "image/png": "[encoded data removed]",
      "text/plain": [
       "<Figure size 417.6x345.6 with 2 Axes>"
      ]
     },
     "metadata": {
      "needs_background": "light"
     },
     "output_type": "display_data"
    }
   ],
   "source": [
    "plt.rcParams['font.family'] = 'Times New Roman'\n",
    "fig, ax = plt.subplots(figsize=(5.8, 4.8)) \n",
    "#surf = ax.scatter(df['X'], df['Y'], c = df['Sig_x'], vmin=0, vmax=6.0, cmap=cm.rainbow)\n",
    "surf = ax.scatter(df['X'], df['Y'], c = abs(df['Sig_x'] - df0['Sig_x']), vmin=0, vmax=0.3, cmap=cm.Reds)\n",
    "#cbar = fig.colorbar(ax)\n",
    "cb = fig.colorbar(surf)\n",
    "cb.ax.locator_params(nbins=7)\n",
    "cb.ax.tick_params(labelsize=16)\n",
    "#cb.set_label(label =r'$\\sigma_xx (MPa)$', fontsize=16)\n",
    "#cb.set_label(fontsize=16)\n",
    "ax.axis('equal')\n",
    "ax.set_xlabel('X Position (mm)', fontsize=18)\n",
    "ax.set_ylabel('Y Position (mm)', fontsize=18)\n",
    "for tick in ax.get_xticklabels():\n",
    "    #tick.set_fontname('Times New Roman')\n",
    "    tick.set_fontsize(16)\n",
    "for tick in ax.get_yticklabels():\n",
    "    #tick.set_fontname('Times New Roman')\n",
    "    tick.set_fontsize(16)\n",
    "#plt.savefig('CH-R2-S-NN5-5-Stress.png', dpi=600, transparent=True)\n",
    "plt.show()"
   ]
  }
 ],
 "metadata": {
  "kernelspec": {
   "display_name": "Python 3",
   "language": "python",
   "name": "python3"
  },
  "language_info": {
   "codemirror_mode": {
    "name": "ipython",
    "version": 3
   },
   "file_extension": ".py",
   "mimetype": "text/x-python",
   "name": "python",
   "nbconvert_exporter": "python",
   "pygments_lexer": "ipython3",
   "version": "3.8.5"
  }
 },
 "nbformat": 4,
 "nbformat_minor": 4
}
